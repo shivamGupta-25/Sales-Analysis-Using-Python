{
 "cells": [
  {
   "cell_type": "markdown",
   "id": "d2cec454",
   "metadata": {},
   "source": [
    "# Sales Analysis"
   ]
  },
  {
   "cell_type": "markdown",
   "id": "40b89397",
   "metadata": {},
   "source": [
    "### importing necessary libraries"
   ]
  },
  {
   "cell_type": "code",
   "execution_count": 1,
   "id": "53572241",
   "metadata": {},
   "outputs": [],
   "source": [
    "import pandas as pd\n",
    "import numpy as np\n",
    "import os"
   ]
  },
  {
   "cell_type": "markdown",
   "id": "2c1ff450",
   "metadata": {},
   "source": [
    "### Merging 12 months of sales Data"
   ]
  },
  {
   "cell_type": "code",
   "execution_count": 2,
   "id": "9e5768d9",
   "metadata": {},
   "outputs": [],
   "source": [
    "april_data = pd.read_csv(r\"Data\\Sales_April_2019.csv\")"
   ]
  },
  {
   "cell_type": "code",
   "execution_count": 3,
   "id": "3ed901fb",
   "metadata": {},
   "outputs": [
    {
     "data": {
      "text/html": [
       "<div>\n",
       "<style scoped>\n",
       "    .dataframe tbody tr th:only-of-type {\n",
       "        vertical-align: middle;\n",
       "    }\n",
       "\n",
       "    .dataframe tbody tr th {\n",
       "        vertical-align: top;\n",
       "    }\n",
       "\n",
       "    .dataframe thead th {\n",
       "        text-align: right;\n",
       "    }\n",
       "</style>\n",
       "<table border=\"1\" class=\"dataframe\">\n",
       "  <thead>\n",
       "    <tr style=\"text-align: right;\">\n",
       "      <th></th>\n",
       "      <th>Order ID</th>\n",
       "      <th>Product</th>\n",
       "      <th>Quantity Ordered</th>\n",
       "      <th>Price Each</th>\n",
       "      <th>Order Date</th>\n",
       "      <th>Purchase Address</th>\n",
       "    </tr>\n",
       "  </thead>\n",
       "  <tbody>\n",
       "    <tr>\n",
       "      <th>0</th>\n",
       "      <td>176558</td>\n",
       "      <td>USB-C Charging Cable</td>\n",
       "      <td>2</td>\n",
       "      <td>11.95</td>\n",
       "      <td>04/19/19 08:46</td>\n",
       "      <td>917 1st St, Dallas, TX 75001</td>\n",
       "    </tr>\n",
       "    <tr>\n",
       "      <th>1</th>\n",
       "      <td>NaN</td>\n",
       "      <td>NaN</td>\n",
       "      <td>NaN</td>\n",
       "      <td>NaN</td>\n",
       "      <td>NaN</td>\n",
       "      <td>NaN</td>\n",
       "    </tr>\n",
       "    <tr>\n",
       "      <th>2</th>\n",
       "      <td>176559</td>\n",
       "      <td>Bose SoundSport Headphones</td>\n",
       "      <td>1</td>\n",
       "      <td>99.99</td>\n",
       "      <td>04/07/19 22:30</td>\n",
       "      <td>682 Chestnut St, Boston, MA 02215</td>\n",
       "    </tr>\n",
       "    <tr>\n",
       "      <th>3</th>\n",
       "      <td>176560</td>\n",
       "      <td>Google Phone</td>\n",
       "      <td>1</td>\n",
       "      <td>600</td>\n",
       "      <td>04/12/19 14:38</td>\n",
       "      <td>669 Spruce St, Los Angeles, CA 90001</td>\n",
       "    </tr>\n",
       "    <tr>\n",
       "      <th>4</th>\n",
       "      <td>176560</td>\n",
       "      <td>Wired Headphones</td>\n",
       "      <td>1</td>\n",
       "      <td>11.99</td>\n",
       "      <td>04/12/19 14:38</td>\n",
       "      <td>669 Spruce St, Los Angeles, CA 90001</td>\n",
       "    </tr>\n",
       "  </tbody>\n",
       "</table>\n",
       "</div>"
      ],
      "text/plain": [
       "  Order ID                     Product Quantity Ordered Price Each  \\\n",
       "0   176558        USB-C Charging Cable                2      11.95   \n",
       "1      NaN                         NaN              NaN        NaN   \n",
       "2   176559  Bose SoundSport Headphones                1      99.99   \n",
       "3   176560                Google Phone                1        600   \n",
       "4   176560            Wired Headphones                1      11.99   \n",
       "\n",
       "       Order Date                      Purchase Address  \n",
       "0  04/19/19 08:46          917 1st St, Dallas, TX 75001  \n",
       "1             NaN                                   NaN  \n",
       "2  04/07/19 22:30     682 Chestnut St, Boston, MA 02215  \n",
       "3  04/12/19 14:38  669 Spruce St, Los Angeles, CA 90001  \n",
       "4  04/12/19 14:38  669 Spruce St, Los Angeles, CA 90001  "
      ]
     },
     "execution_count": 3,
     "metadata": {},
     "output_type": "execute_result"
    }
   ],
   "source": [
    "april_data.head()"
   ]
  },
  {
   "cell_type": "code",
   "execution_count": 4,
   "id": "bc75d4e9",
   "metadata": {},
   "outputs": [
    {
     "data": {
      "text/plain": [
       "(18383, 6)"
      ]
     },
     "execution_count": 4,
     "metadata": {},
     "output_type": "execute_result"
    }
   ],
   "source": [
    "april_data.shape"
   ]
  },
  {
   "cell_type": "code",
   "execution_count": 5,
   "id": "e1cb9897",
   "metadata": {},
   "outputs": [],
   "source": [
    "files = [file for file in os.listdir(\"Data\")]\n",
    "\n",
    "merge_data = pd.DataFrame()\n",
    "\n",
    "for file in files:\n",
    "    #print(file)\n",
    "    month_data = pd.read_csv(\"Data/\" + file)\n",
    "    merge_data = pd.concat([merge_data, month_data])\n"
   ]
  },
  {
   "cell_type": "markdown",
   "id": "42d8e56c",
   "metadata": {},
   "source": [
    "### Saving Merged Data of 12 Months File"
   ]
  },
  {
   "cell_type": "code",
   "execution_count": 6,
   "id": "c7f75653",
   "metadata": {},
   "outputs": [],
   "source": [
    "merge_data.to_csv(\"Merge_data.csv\", index = False)"
   ]
  },
  {
   "cell_type": "markdown",
   "id": "6d09bb5a",
   "metadata": {},
   "source": [
    "## Reading Merged Data File"
   ]
  },
  {
   "cell_type": "code",
   "execution_count": 7,
   "id": "7dae4ef5",
   "metadata": {},
   "outputs": [],
   "source": [
    "df = pd.read_csv(\"Merge_data.csv\")"
   ]
  },
  {
   "cell_type": "code",
   "execution_count": 8,
   "id": "111e3384",
   "metadata": {},
   "outputs": [
    {
     "data": {
      "text/plain": [
       "(186850, 6)"
      ]
     },
     "execution_count": 8,
     "metadata": {},
     "output_type": "execute_result"
    }
   ],
   "source": [
    "df.shape"
   ]
  },
  {
   "cell_type": "code",
   "execution_count": 9,
   "id": "f480d5ad",
   "metadata": {},
   "outputs": [
    {
     "data": {
      "text/html": [
       "<div>\n",
       "<style scoped>\n",
       "    .dataframe tbody tr th:only-of-type {\n",
       "        vertical-align: middle;\n",
       "    }\n",
       "\n",
       "    .dataframe tbody tr th {\n",
       "        vertical-align: top;\n",
       "    }\n",
       "\n",
       "    .dataframe thead th {\n",
       "        text-align: right;\n",
       "    }\n",
       "</style>\n",
       "<table border=\"1\" class=\"dataframe\">\n",
       "  <thead>\n",
       "    <tr style=\"text-align: right;\">\n",
       "      <th></th>\n",
       "      <th>Order ID</th>\n",
       "      <th>Product</th>\n",
       "      <th>Quantity Ordered</th>\n",
       "      <th>Price Each</th>\n",
       "      <th>Order Date</th>\n",
       "      <th>Purchase Address</th>\n",
       "    </tr>\n",
       "  </thead>\n",
       "  <tbody>\n",
       "    <tr>\n",
       "      <th>0</th>\n",
       "      <td>176558</td>\n",
       "      <td>USB-C Charging Cable</td>\n",
       "      <td>2</td>\n",
       "      <td>11.95</td>\n",
       "      <td>04/19/19 08:46</td>\n",
       "      <td>917 1st St, Dallas, TX 75001</td>\n",
       "    </tr>\n",
       "    <tr>\n",
       "      <th>1</th>\n",
       "      <td>NaN</td>\n",
       "      <td>NaN</td>\n",
       "      <td>NaN</td>\n",
       "      <td>NaN</td>\n",
       "      <td>NaN</td>\n",
       "      <td>NaN</td>\n",
       "    </tr>\n",
       "    <tr>\n",
       "      <th>2</th>\n",
       "      <td>176559</td>\n",
       "      <td>Bose SoundSport Headphones</td>\n",
       "      <td>1</td>\n",
       "      <td>99.99</td>\n",
       "      <td>04/07/19 22:30</td>\n",
       "      <td>682 Chestnut St, Boston, MA 02215</td>\n",
       "    </tr>\n",
       "    <tr>\n",
       "      <th>3</th>\n",
       "      <td>176560</td>\n",
       "      <td>Google Phone</td>\n",
       "      <td>1</td>\n",
       "      <td>600</td>\n",
       "      <td>04/12/19 14:38</td>\n",
       "      <td>669 Spruce St, Los Angeles, CA 90001</td>\n",
       "    </tr>\n",
       "    <tr>\n",
       "      <th>4</th>\n",
       "      <td>176560</td>\n",
       "      <td>Wired Headphones</td>\n",
       "      <td>1</td>\n",
       "      <td>11.99</td>\n",
       "      <td>04/12/19 14:38</td>\n",
       "      <td>669 Spruce St, Los Angeles, CA 90001</td>\n",
       "    </tr>\n",
       "  </tbody>\n",
       "</table>\n",
       "</div>"
      ],
      "text/plain": [
       "  Order ID                     Product Quantity Ordered Price Each  \\\n",
       "0   176558        USB-C Charging Cable                2      11.95   \n",
       "1      NaN                         NaN              NaN        NaN   \n",
       "2   176559  Bose SoundSport Headphones                1      99.99   \n",
       "3   176560                Google Phone                1        600   \n",
       "4   176560            Wired Headphones                1      11.99   \n",
       "\n",
       "       Order Date                      Purchase Address  \n",
       "0  04/19/19 08:46          917 1st St, Dallas, TX 75001  \n",
       "1             NaN                                   NaN  \n",
       "2  04/07/19 22:30     682 Chestnut St, Boston, MA 02215  \n",
       "3  04/12/19 14:38  669 Spruce St, Los Angeles, CA 90001  \n",
       "4  04/12/19 14:38  669 Spruce St, Los Angeles, CA 90001  "
      ]
     },
     "execution_count": 9,
     "metadata": {},
     "output_type": "execute_result"
    }
   ],
   "source": [
    "df.head()"
   ]
  },
  {
   "cell_type": "code",
   "execution_count": 10,
   "id": "c0c6752d",
   "metadata": {},
   "outputs": [
    {
     "name": "stdout",
     "output_type": "stream",
     "text": [
      "<class 'pandas.core.frame.DataFrame'>\n",
      "RangeIndex: 186850 entries, 0 to 186849\n",
      "Data columns (total 6 columns):\n",
      " #   Column            Non-Null Count   Dtype \n",
      "---  ------            --------------   ----- \n",
      " 0   Order ID          186305 non-null  object\n",
      " 1   Product           186305 non-null  object\n",
      " 2   Quantity Ordered  186305 non-null  object\n",
      " 3   Price Each        186305 non-null  object\n",
      " 4   Order Date        186305 non-null  object\n",
      " 5   Purchase Address  186305 non-null  object\n",
      "dtypes: object(6)\n",
      "memory usage: 8.6+ MB\n"
     ]
    }
   ],
   "source": [
    "df.info()"
   ]
  },
  {
   "cell_type": "markdown",
   "id": "c9749003",
   "metadata": {},
   "source": [
    "# Cleaning Data"
   ]
  },
  {
   "cell_type": "markdown",
   "id": "1ea5a2e7",
   "metadata": {},
   "source": [
    "#### Drop Rows of NaN"
   ]
  },
  {
   "cell_type": "code",
   "execution_count": 11,
   "id": "fc14b7e2",
   "metadata": {},
   "outputs": [
    {
     "data": {
      "text/html": [
       "<div>\n",
       "<style scoped>\n",
       "    .dataframe tbody tr th:only-of-type {\n",
       "        vertical-align: middle;\n",
       "    }\n",
       "\n",
       "    .dataframe tbody tr th {\n",
       "        vertical-align: top;\n",
       "    }\n",
       "\n",
       "    .dataframe thead th {\n",
       "        text-align: right;\n",
       "    }\n",
       "</style>\n",
       "<table border=\"1\" class=\"dataframe\">\n",
       "  <thead>\n",
       "    <tr style=\"text-align: right;\">\n",
       "      <th></th>\n",
       "      <th>Order ID</th>\n",
       "      <th>Product</th>\n",
       "      <th>Quantity Ordered</th>\n",
       "      <th>Price Each</th>\n",
       "      <th>Order Date</th>\n",
       "      <th>Purchase Address</th>\n",
       "    </tr>\n",
       "  </thead>\n",
       "  <tbody>\n",
       "    <tr>\n",
       "      <th>1</th>\n",
       "      <td>NaN</td>\n",
       "      <td>NaN</td>\n",
       "      <td>NaN</td>\n",
       "      <td>NaN</td>\n",
       "      <td>NaN</td>\n",
       "      <td>NaN</td>\n",
       "    </tr>\n",
       "    <tr>\n",
       "      <th>356</th>\n",
       "      <td>NaN</td>\n",
       "      <td>NaN</td>\n",
       "      <td>NaN</td>\n",
       "      <td>NaN</td>\n",
       "      <td>NaN</td>\n",
       "      <td>NaN</td>\n",
       "    </tr>\n",
       "    <tr>\n",
       "      <th>735</th>\n",
       "      <td>NaN</td>\n",
       "      <td>NaN</td>\n",
       "      <td>NaN</td>\n",
       "      <td>NaN</td>\n",
       "      <td>NaN</td>\n",
       "      <td>NaN</td>\n",
       "    </tr>\n",
       "    <tr>\n",
       "      <th>1433</th>\n",
       "      <td>NaN</td>\n",
       "      <td>NaN</td>\n",
       "      <td>NaN</td>\n",
       "      <td>NaN</td>\n",
       "      <td>NaN</td>\n",
       "      <td>NaN</td>\n",
       "    </tr>\n",
       "    <tr>\n",
       "      <th>1553</th>\n",
       "      <td>NaN</td>\n",
       "      <td>NaN</td>\n",
       "      <td>NaN</td>\n",
       "      <td>NaN</td>\n",
       "      <td>NaN</td>\n",
       "      <td>NaN</td>\n",
       "    </tr>\n",
       "    <tr>\n",
       "      <th>...</th>\n",
       "      <td>...</td>\n",
       "      <td>...</td>\n",
       "      <td>...</td>\n",
       "      <td>...</td>\n",
       "      <td>...</td>\n",
       "      <td>...</td>\n",
       "    </tr>\n",
       "    <tr>\n",
       "      <th>185176</th>\n",
       "      <td>NaN</td>\n",
       "      <td>NaN</td>\n",
       "      <td>NaN</td>\n",
       "      <td>NaN</td>\n",
       "      <td>NaN</td>\n",
       "      <td>NaN</td>\n",
       "    </tr>\n",
       "    <tr>\n",
       "      <th>185438</th>\n",
       "      <td>NaN</td>\n",
       "      <td>NaN</td>\n",
       "      <td>NaN</td>\n",
       "      <td>NaN</td>\n",
       "      <td>NaN</td>\n",
       "      <td>NaN</td>\n",
       "    </tr>\n",
       "    <tr>\n",
       "      <th>186042</th>\n",
       "      <td>NaN</td>\n",
       "      <td>NaN</td>\n",
       "      <td>NaN</td>\n",
       "      <td>NaN</td>\n",
       "      <td>NaN</td>\n",
       "      <td>NaN</td>\n",
       "    </tr>\n",
       "    <tr>\n",
       "      <th>186548</th>\n",
       "      <td>NaN</td>\n",
       "      <td>NaN</td>\n",
       "      <td>NaN</td>\n",
       "      <td>NaN</td>\n",
       "      <td>NaN</td>\n",
       "      <td>NaN</td>\n",
       "    </tr>\n",
       "    <tr>\n",
       "      <th>186826</th>\n",
       "      <td>NaN</td>\n",
       "      <td>NaN</td>\n",
       "      <td>NaN</td>\n",
       "      <td>NaN</td>\n",
       "      <td>NaN</td>\n",
       "      <td>NaN</td>\n",
       "    </tr>\n",
       "  </tbody>\n",
       "</table>\n",
       "<p>545 rows × 6 columns</p>\n",
       "</div>"
      ],
      "text/plain": [
       "       Order ID Product Quantity Ordered Price Each Order Date  \\\n",
       "1           NaN     NaN              NaN        NaN        NaN   \n",
       "356         NaN     NaN              NaN        NaN        NaN   \n",
       "735         NaN     NaN              NaN        NaN        NaN   \n",
       "1433        NaN     NaN              NaN        NaN        NaN   \n",
       "1553        NaN     NaN              NaN        NaN        NaN   \n",
       "...         ...     ...              ...        ...        ...   \n",
       "185176      NaN     NaN              NaN        NaN        NaN   \n",
       "185438      NaN     NaN              NaN        NaN        NaN   \n",
       "186042      NaN     NaN              NaN        NaN        NaN   \n",
       "186548      NaN     NaN              NaN        NaN        NaN   \n",
       "186826      NaN     NaN              NaN        NaN        NaN   \n",
       "\n",
       "       Purchase Address  \n",
       "1                   NaN  \n",
       "356                 NaN  \n",
       "735                 NaN  \n",
       "1433                NaN  \n",
       "1553                NaN  \n",
       "...                 ...  \n",
       "185176              NaN  \n",
       "185438              NaN  \n",
       "186042              NaN  \n",
       "186548              NaN  \n",
       "186826              NaN  \n",
       "\n",
       "[545 rows x 6 columns]"
      ]
     },
     "execution_count": 11,
     "metadata": {},
     "output_type": "execute_result"
    }
   ],
   "source": [
    "nan_df = df[df.isna().any(axis = 1)]\n",
    "nan_df"
   ]
  },
  {
   "cell_type": "code",
   "execution_count": 12,
   "id": "beae0527",
   "metadata": {},
   "outputs": [],
   "source": [
    "df.dropna(axis = 'index', how = 'all', inplace = True) # Drop NaN values If all the values in column is NaN"
   ]
  },
  {
   "cell_type": "code",
   "execution_count": 13,
   "id": "2758e714",
   "metadata": {},
   "outputs": [
    {
     "data": {
      "text/plain": [
       "(186305, 6)"
      ]
     },
     "execution_count": 13,
     "metadata": {},
     "output_type": "execute_result"
    }
   ],
   "source": [
    "df.shape"
   ]
  },
  {
   "cell_type": "markdown",
   "id": "57ab159e",
   "metadata": {},
   "source": [
    "#### Removing Header Which get added multiple times while merging Months data"
   ]
  },
  {
   "cell_type": "code",
   "execution_count": 14,
   "id": "f3e9aac4",
   "metadata": {},
   "outputs": [],
   "source": [
    "df = df[df[\"Order ID\"].str[:4] != 'Orde']"
   ]
  },
  {
   "cell_type": "code",
   "execution_count": 15,
   "id": "49c04b93",
   "metadata": {},
   "outputs": [
    {
     "data": {
      "text/html": [
       "<div>\n",
       "<style scoped>\n",
       "    .dataframe tbody tr th:only-of-type {\n",
       "        vertical-align: middle;\n",
       "    }\n",
       "\n",
       "    .dataframe tbody tr th {\n",
       "        vertical-align: top;\n",
       "    }\n",
       "\n",
       "    .dataframe thead th {\n",
       "        text-align: right;\n",
       "    }\n",
       "</style>\n",
       "<table border=\"1\" class=\"dataframe\">\n",
       "  <thead>\n",
       "    <tr style=\"text-align: right;\">\n",
       "      <th></th>\n",
       "      <th>Order ID</th>\n",
       "      <th>Product</th>\n",
       "      <th>Quantity Ordered</th>\n",
       "      <th>Price Each</th>\n",
       "      <th>Order Date</th>\n",
       "      <th>Purchase Address</th>\n",
       "    </tr>\n",
       "  </thead>\n",
       "  <tbody>\n",
       "    <tr>\n",
       "      <th>0</th>\n",
       "      <td>176558</td>\n",
       "      <td>USB-C Charging Cable</td>\n",
       "      <td>2</td>\n",
       "      <td>11.95</td>\n",
       "      <td>04/19/19 08:46</td>\n",
       "      <td>917 1st St, Dallas, TX 75001</td>\n",
       "    </tr>\n",
       "    <tr>\n",
       "      <th>2</th>\n",
       "      <td>176559</td>\n",
       "      <td>Bose SoundSport Headphones</td>\n",
       "      <td>1</td>\n",
       "      <td>99.99</td>\n",
       "      <td>04/07/19 22:30</td>\n",
       "      <td>682 Chestnut St, Boston, MA 02215</td>\n",
       "    </tr>\n",
       "    <tr>\n",
       "      <th>3</th>\n",
       "      <td>176560</td>\n",
       "      <td>Google Phone</td>\n",
       "      <td>1</td>\n",
       "      <td>600</td>\n",
       "      <td>04/12/19 14:38</td>\n",
       "      <td>669 Spruce St, Los Angeles, CA 90001</td>\n",
       "    </tr>\n",
       "    <tr>\n",
       "      <th>4</th>\n",
       "      <td>176560</td>\n",
       "      <td>Wired Headphones</td>\n",
       "      <td>1</td>\n",
       "      <td>11.99</td>\n",
       "      <td>04/12/19 14:38</td>\n",
       "      <td>669 Spruce St, Los Angeles, CA 90001</td>\n",
       "    </tr>\n",
       "    <tr>\n",
       "      <th>5</th>\n",
       "      <td>176561</td>\n",
       "      <td>Wired Headphones</td>\n",
       "      <td>1</td>\n",
       "      <td>11.99</td>\n",
       "      <td>04/30/19 09:27</td>\n",
       "      <td>333 8th St, Los Angeles, CA 90001</td>\n",
       "    </tr>\n",
       "  </tbody>\n",
       "</table>\n",
       "</div>"
      ],
      "text/plain": [
       "  Order ID                     Product Quantity Ordered Price Each  \\\n",
       "0   176558        USB-C Charging Cable                2      11.95   \n",
       "2   176559  Bose SoundSport Headphones                1      99.99   \n",
       "3   176560                Google Phone                1        600   \n",
       "4   176560            Wired Headphones                1      11.99   \n",
       "5   176561            Wired Headphones                1      11.99   \n",
       "\n",
       "       Order Date                      Purchase Address  \n",
       "0  04/19/19 08:46          917 1st St, Dallas, TX 75001  \n",
       "2  04/07/19 22:30     682 Chestnut St, Boston, MA 02215  \n",
       "3  04/12/19 14:38  669 Spruce St, Los Angeles, CA 90001  \n",
       "4  04/12/19 14:38  669 Spruce St, Los Angeles, CA 90001  \n",
       "5  04/30/19 09:27     333 8th St, Los Angeles, CA 90001  "
      ]
     },
     "execution_count": 15,
     "metadata": {},
     "output_type": "execute_result"
    }
   ],
   "source": [
    "df.head()"
   ]
  },
  {
   "cell_type": "code",
   "execution_count": 16,
   "id": "2317405d",
   "metadata": {},
   "outputs": [
    {
     "data": {
      "text/plain": [
       "(185950, 6)"
      ]
     },
     "execution_count": 16,
     "metadata": {},
     "output_type": "execute_result"
    }
   ],
   "source": [
    "df.shape"
   ]
  },
  {
   "cell_type": "code",
   "execution_count": 17,
   "id": "2fcd61ba",
   "metadata": {},
   "outputs": [
    {
     "data": {
      "text/html": [
       "<div>\n",
       "<style scoped>\n",
       "    .dataframe tbody tr th:only-of-type {\n",
       "        vertical-align: middle;\n",
       "    }\n",
       "\n",
       "    .dataframe tbody tr th {\n",
       "        vertical-align: top;\n",
       "    }\n",
       "\n",
       "    .dataframe thead th {\n",
       "        text-align: right;\n",
       "    }\n",
       "</style>\n",
       "<table border=\"1\" class=\"dataframe\">\n",
       "  <thead>\n",
       "    <tr style=\"text-align: right;\">\n",
       "      <th></th>\n",
       "      <th>Order ID</th>\n",
       "      <th>Product</th>\n",
       "      <th>Quantity Ordered</th>\n",
       "      <th>Price Each</th>\n",
       "      <th>Order Date</th>\n",
       "      <th>Purchase Address</th>\n",
       "    </tr>\n",
       "  </thead>\n",
       "  <tbody>\n",
       "  </tbody>\n",
       "</table>\n",
       "</div>"
      ],
      "text/plain": [
       "Empty DataFrame\n",
       "Columns: [Order ID, Product, Quantity Ordered, Price Each, Order Date, Purchase Address]\n",
       "Index: []"
      ]
     },
     "execution_count": 17,
     "metadata": {},
     "output_type": "execute_result"
    }
   ],
   "source": [
    "df[df.isna().any(axis = 1)]\n",
    "\n",
    "# all Null Values had been removed"
   ]
  },
  {
   "cell_type": "markdown",
   "id": "33e45dd1",
   "metadata": {},
   "source": [
    "## Removing Duplicates"
   ]
  },
  {
   "cell_type": "code",
   "execution_count": 18,
   "id": "c1b6ea8d",
   "metadata": {},
   "outputs": [
    {
     "data": {
      "text/html": [
       "<div>\n",
       "<style scoped>\n",
       "    .dataframe tbody tr th:only-of-type {\n",
       "        vertical-align: middle;\n",
       "    }\n",
       "\n",
       "    .dataframe tbody tr th {\n",
       "        vertical-align: top;\n",
       "    }\n",
       "\n",
       "    .dataframe thead th {\n",
       "        text-align: right;\n",
       "    }\n",
       "</style>\n",
       "<table border=\"1\" class=\"dataframe\">\n",
       "  <thead>\n",
       "    <tr style=\"text-align: right;\">\n",
       "      <th></th>\n",
       "      <th>Order ID</th>\n",
       "      <th>Product</th>\n",
       "      <th>Quantity Ordered</th>\n",
       "      <th>Price Each</th>\n",
       "      <th>Order Date</th>\n",
       "      <th>Purchase Address</th>\n",
       "    </tr>\n",
       "  </thead>\n",
       "  <tbody>\n",
       "    <tr>\n",
       "      <th>68422</th>\n",
       "      <td>142071</td>\n",
       "      <td>AA Batteries (4-pack)</td>\n",
       "      <td>1</td>\n",
       "      <td>3.84</td>\n",
       "      <td>01/17/19 23:02</td>\n",
       "      <td>131 2nd St, Boston, MA 02215</td>\n",
       "    </tr>\n",
       "    <tr>\n",
       "      <th>71673</th>\n",
       "      <td>145143</td>\n",
       "      <td>Lightning Charging Cable</td>\n",
       "      <td>1</td>\n",
       "      <td>14.95</td>\n",
       "      <td>01/06/19 03:01</td>\n",
       "      <td>182 Jefferson St, San Francisco, CA 94016</td>\n",
       "    </tr>\n",
       "    <tr>\n",
       "      <th>73358</th>\n",
       "      <td>146765</td>\n",
       "      <td>Google Phone</td>\n",
       "      <td>1</td>\n",
       "      <td>600</td>\n",
       "      <td>01/21/19 11:23</td>\n",
       "      <td>918 Highland St, New York City, NY 10001</td>\n",
       "    </tr>\n",
       "    <tr>\n",
       "      <th>74354</th>\n",
       "      <td>147707</td>\n",
       "      <td>Wired Headphones</td>\n",
       "      <td>1</td>\n",
       "      <td>11.99</td>\n",
       "      <td>01/04/19 16:50</td>\n",
       "      <td>883 4th St, Dallas, TX 75001</td>\n",
       "    </tr>\n",
       "    <tr>\n",
       "      <th>75681</th>\n",
       "      <td>148984</td>\n",
       "      <td>USB-C Charging Cable</td>\n",
       "      <td>1</td>\n",
       "      <td>11.95</td>\n",
       "      <td>01/08/19 17:36</td>\n",
       "      <td>562 14th St, Boston, MA 02215</td>\n",
       "    </tr>\n",
       "    <tr>\n",
       "      <th>...</th>\n",
       "      <td>...</td>\n",
       "      <td>...</td>\n",
       "      <td>...</td>\n",
       "      <td>...</td>\n",
       "      <td>...</td>\n",
       "      <td>...</td>\n",
       "    </tr>\n",
       "    <tr>\n",
       "      <th>50288</th>\n",
       "      <td>314675</td>\n",
       "      <td>AA Batteries (4-pack)</td>\n",
       "      <td>1</td>\n",
       "      <td>3.84</td>\n",
       "      <td>12/26/19 09:01</td>\n",
       "      <td>927 13th St, San Francisco, CA 94016</td>\n",
       "    </tr>\n",
       "    <tr>\n",
       "      <th>50846</th>\n",
       "      <td>315204</td>\n",
       "      <td>Wired Headphones</td>\n",
       "      <td>1</td>\n",
       "      <td>11.99</td>\n",
       "      <td>12/12/19 12:41</td>\n",
       "      <td>680 6th St, San Francisco, CA 94016</td>\n",
       "    </tr>\n",
       "    <tr>\n",
       "      <th>51634</th>\n",
       "      <td>315955</td>\n",
       "      <td>ThinkPad Laptop</td>\n",
       "      <td>1</td>\n",
       "      <td>999.99</td>\n",
       "      <td>12/26/19 17:28</td>\n",
       "      <td>588 Chestnut St, Seattle, WA 98101</td>\n",
       "    </tr>\n",
       "    <tr>\n",
       "      <th>51861</th>\n",
       "      <td>316173</td>\n",
       "      <td>AAA Batteries (4-pack)</td>\n",
       "      <td>1</td>\n",
       "      <td>2.99</td>\n",
       "      <td>12/22/19 22:44</td>\n",
       "      <td>907 Sunset St, Portland, OR 97035</td>\n",
       "    </tr>\n",
       "    <tr>\n",
       "      <th>53746</th>\n",
       "      <td>317971</td>\n",
       "      <td>AA Batteries (4-pack)</td>\n",
       "      <td>1</td>\n",
       "      <td>3.84</td>\n",
       "      <td>12/17/19 18:39</td>\n",
       "      <td>250 Chestnut St, San Francisco, CA 94016</td>\n",
       "    </tr>\n",
       "  </tbody>\n",
       "</table>\n",
       "<p>264 rows × 6 columns</p>\n",
       "</div>"
      ],
      "text/plain": [
       "      Order ID                   Product Quantity Ordered Price Each  \\\n",
       "68422   142071     AA Batteries (4-pack)                1       3.84   \n",
       "71673   145143  Lightning Charging Cable                1      14.95   \n",
       "73358   146765              Google Phone                1        600   \n",
       "74354   147707          Wired Headphones                1      11.99   \n",
       "75681   148984      USB-C Charging Cable                1      11.95   \n",
       "...        ...                       ...              ...        ...   \n",
       "50288   314675     AA Batteries (4-pack)                1       3.84   \n",
       "50846   315204          Wired Headphones                1      11.99   \n",
       "51634   315955           ThinkPad Laptop                1     999.99   \n",
       "51861   316173    AAA Batteries (4-pack)                1       2.99   \n",
       "53746   317971     AA Batteries (4-pack)                1       3.84   \n",
       "\n",
       "           Order Date                           Purchase Address  \n",
       "68422  01/17/19 23:02               131 2nd St, Boston, MA 02215  \n",
       "71673  01/06/19 03:01  182 Jefferson St, San Francisco, CA 94016  \n",
       "73358  01/21/19 11:23   918 Highland St, New York City, NY 10001  \n",
       "74354  01/04/19 16:50               883 4th St, Dallas, TX 75001  \n",
       "75681  01/08/19 17:36              562 14th St, Boston, MA 02215  \n",
       "...               ...                                        ...  \n",
       "50288  12/26/19 09:01       927 13th St, San Francisco, CA 94016  \n",
       "50846  12/12/19 12:41        680 6th St, San Francisco, CA 94016  \n",
       "51634  12/26/19 17:28         588 Chestnut St, Seattle, WA 98101  \n",
       "51861  12/22/19 22:44          907 Sunset St, Portland, OR 97035  \n",
       "53746  12/17/19 18:39   250 Chestnut St, San Francisco, CA 94016  \n",
       "\n",
       "[264 rows x 6 columns]"
      ]
     },
     "execution_count": 18,
     "metadata": {},
     "output_type": "execute_result"
    }
   ],
   "source": [
    "df[df.duplicated(keep=\"first\")].sort_values(by = \"Order ID\") # These are the Duplicate Values We are keeping the first entry"
   ]
  },
  {
   "cell_type": "code",
   "execution_count": 19,
   "id": "2b4a33d1",
   "metadata": {},
   "outputs": [],
   "source": [
    "df.drop_duplicates(inplace = True)"
   ]
  },
  {
   "cell_type": "code",
   "execution_count": 20,
   "id": "8ca8bcbd",
   "metadata": {},
   "outputs": [
    {
     "data": {
      "text/plain": [
       "(185686, 6)"
      ]
     },
     "execution_count": 20,
     "metadata": {},
     "output_type": "execute_result"
    }
   ],
   "source": [
    "df.shape"
   ]
  },
  {
   "cell_type": "code",
   "execution_count": 21,
   "id": "d8ddc28d",
   "metadata": {},
   "outputs": [
    {
     "data": {
      "text/html": [
       "<div>\n",
       "<style scoped>\n",
       "    .dataframe tbody tr th:only-of-type {\n",
       "        vertical-align: middle;\n",
       "    }\n",
       "\n",
       "    .dataframe tbody tr th {\n",
       "        vertical-align: top;\n",
       "    }\n",
       "\n",
       "    .dataframe thead th {\n",
       "        text-align: right;\n",
       "    }\n",
       "</style>\n",
       "<table border=\"1\" class=\"dataframe\">\n",
       "  <thead>\n",
       "    <tr style=\"text-align: right;\">\n",
       "      <th></th>\n",
       "      <th>Order ID</th>\n",
       "      <th>Product</th>\n",
       "      <th>Quantity Ordered</th>\n",
       "      <th>Price Each</th>\n",
       "      <th>Order Date</th>\n",
       "      <th>Purchase Address</th>\n",
       "    </tr>\n",
       "  </thead>\n",
       "  <tbody>\n",
       "    <tr>\n",
       "      <th>0</th>\n",
       "      <td>176558</td>\n",
       "      <td>USB-C Charging Cable</td>\n",
       "      <td>2</td>\n",
       "      <td>11.95</td>\n",
       "      <td>04/19/19 08:46</td>\n",
       "      <td>917 1st St, Dallas, TX 75001</td>\n",
       "    </tr>\n",
       "    <tr>\n",
       "      <th>2</th>\n",
       "      <td>176559</td>\n",
       "      <td>Bose SoundSport Headphones</td>\n",
       "      <td>1</td>\n",
       "      <td>99.99</td>\n",
       "      <td>04/07/19 22:30</td>\n",
       "      <td>682 Chestnut St, Boston, MA 02215</td>\n",
       "    </tr>\n",
       "    <tr>\n",
       "      <th>3</th>\n",
       "      <td>176560</td>\n",
       "      <td>Google Phone</td>\n",
       "      <td>1</td>\n",
       "      <td>600</td>\n",
       "      <td>04/12/19 14:38</td>\n",
       "      <td>669 Spruce St, Los Angeles, CA 90001</td>\n",
       "    </tr>\n",
       "    <tr>\n",
       "      <th>4</th>\n",
       "      <td>176560</td>\n",
       "      <td>Wired Headphones</td>\n",
       "      <td>1</td>\n",
       "      <td>11.99</td>\n",
       "      <td>04/12/19 14:38</td>\n",
       "      <td>669 Spruce St, Los Angeles, CA 90001</td>\n",
       "    </tr>\n",
       "    <tr>\n",
       "      <th>5</th>\n",
       "      <td>176561</td>\n",
       "      <td>Wired Headphones</td>\n",
       "      <td>1</td>\n",
       "      <td>11.99</td>\n",
       "      <td>04/30/19 09:27</td>\n",
       "      <td>333 8th St, Los Angeles, CA 90001</td>\n",
       "    </tr>\n",
       "  </tbody>\n",
       "</table>\n",
       "</div>"
      ],
      "text/plain": [
       "  Order ID                     Product Quantity Ordered Price Each  \\\n",
       "0   176558        USB-C Charging Cable                2      11.95   \n",
       "2   176559  Bose SoundSport Headphones                1      99.99   \n",
       "3   176560                Google Phone                1        600   \n",
       "4   176560            Wired Headphones                1      11.99   \n",
       "5   176561            Wired Headphones                1      11.99   \n",
       "\n",
       "       Order Date                      Purchase Address  \n",
       "0  04/19/19 08:46          917 1st St, Dallas, TX 75001  \n",
       "2  04/07/19 22:30     682 Chestnut St, Boston, MA 02215  \n",
       "3  04/12/19 14:38  669 Spruce St, Los Angeles, CA 90001  \n",
       "4  04/12/19 14:38  669 Spruce St, Los Angeles, CA 90001  \n",
       "5  04/30/19 09:27     333 8th St, Los Angeles, CA 90001  "
      ]
     },
     "execution_count": 21,
     "metadata": {},
     "output_type": "execute_result"
    }
   ],
   "source": [
    "df.head()"
   ]
  },
  {
   "cell_type": "code",
   "execution_count": 22,
   "id": "154558a0",
   "metadata": {},
   "outputs": [
    {
     "data": {
      "text/plain": [
       "Index(['Order ID', 'Product', 'Quantity Ordered', 'Price Each', 'Order Date',\n",
       "       'Purchase Address'],\n",
       "      dtype='object')"
      ]
     },
     "execution_count": 22,
     "metadata": {},
     "output_type": "execute_result"
    }
   ],
   "source": [
    "df.columns"
   ]
  },
  {
   "cell_type": "markdown",
   "id": "c742f41f",
   "metadata": {},
   "source": [
    "#### Converting 'Order Date' Column to Date Time Format"
   ]
  },
  {
   "cell_type": "code",
   "execution_count": 23,
   "id": "b483aaee",
   "metadata": {},
   "outputs": [
    {
     "data": {
      "text/plain": [
       "'04/19/19 08:46'"
      ]
     },
     "execution_count": 23,
     "metadata": {},
     "output_type": "execute_result"
    }
   ],
   "source": [
    "df.loc[0, \"Order Date\"]"
   ]
  },
  {
   "cell_type": "code",
   "execution_count": 24,
   "id": "cd1ca521",
   "metadata": {},
   "outputs": [],
   "source": [
    "df[\"Order Date\"] = pd.to_datetime(df[\"Order Date\"])"
   ]
  },
  {
   "cell_type": "code",
   "execution_count": 25,
   "id": "08c7c768",
   "metadata": {},
   "outputs": [
    {
     "data": {
      "text/plain": [
       "dtype('<M8[ns]')"
      ]
     },
     "execution_count": 25,
     "metadata": {},
     "output_type": "execute_result"
    }
   ],
   "source": [
    "df[\"Order Date\"].dtypes"
   ]
  },
  {
   "cell_type": "code",
   "execution_count": 26,
   "id": "afd08702",
   "metadata": {},
   "outputs": [
    {
     "data": {
      "text/plain": [
       "Timestamp('2019-04-19 08:46:00')"
      ]
     },
     "execution_count": 26,
     "metadata": {},
     "output_type": "execute_result"
    }
   ],
   "source": [
    "df.loc[0,\"Order Date\"]"
   ]
  },
  {
   "cell_type": "markdown",
   "id": "9f0df137",
   "metadata": {},
   "source": [
    "#### Adding Month Columns"
   ]
  },
  {
   "cell_type": "code",
   "execution_count": 27,
   "id": "95cad011",
   "metadata": {},
   "outputs": [],
   "source": [
    "df[\"Month\"] = df[\"Order Date\"].dt.month_name()"
   ]
  },
  {
   "cell_type": "code",
   "execution_count": 28,
   "id": "fd3668dd",
   "metadata": {},
   "outputs": [
    {
     "data": {
      "text/html": [
       "<div>\n",
       "<style scoped>\n",
       "    .dataframe tbody tr th:only-of-type {\n",
       "        vertical-align: middle;\n",
       "    }\n",
       "\n",
       "    .dataframe tbody tr th {\n",
       "        vertical-align: top;\n",
       "    }\n",
       "\n",
       "    .dataframe thead th {\n",
       "        text-align: right;\n",
       "    }\n",
       "</style>\n",
       "<table border=\"1\" class=\"dataframe\">\n",
       "  <thead>\n",
       "    <tr style=\"text-align: right;\">\n",
       "      <th></th>\n",
       "      <th>Order ID</th>\n",
       "      <th>Product</th>\n",
       "      <th>Quantity Ordered</th>\n",
       "      <th>Price Each</th>\n",
       "      <th>Order Date</th>\n",
       "      <th>Purchase Address</th>\n",
       "      <th>Month</th>\n",
       "    </tr>\n",
       "  </thead>\n",
       "  <tbody>\n",
       "    <tr>\n",
       "      <th>0</th>\n",
       "      <td>176558</td>\n",
       "      <td>USB-C Charging Cable</td>\n",
       "      <td>2</td>\n",
       "      <td>11.95</td>\n",
       "      <td>2019-04-19 08:46:00</td>\n",
       "      <td>917 1st St, Dallas, TX 75001</td>\n",
       "      <td>April</td>\n",
       "    </tr>\n",
       "    <tr>\n",
       "      <th>2</th>\n",
       "      <td>176559</td>\n",
       "      <td>Bose SoundSport Headphones</td>\n",
       "      <td>1</td>\n",
       "      <td>99.99</td>\n",
       "      <td>2019-04-07 22:30:00</td>\n",
       "      <td>682 Chestnut St, Boston, MA 02215</td>\n",
       "      <td>April</td>\n",
       "    </tr>\n",
       "    <tr>\n",
       "      <th>3</th>\n",
       "      <td>176560</td>\n",
       "      <td>Google Phone</td>\n",
       "      <td>1</td>\n",
       "      <td>600</td>\n",
       "      <td>2019-04-12 14:38:00</td>\n",
       "      <td>669 Spruce St, Los Angeles, CA 90001</td>\n",
       "      <td>April</td>\n",
       "    </tr>\n",
       "    <tr>\n",
       "      <th>4</th>\n",
       "      <td>176560</td>\n",
       "      <td>Wired Headphones</td>\n",
       "      <td>1</td>\n",
       "      <td>11.99</td>\n",
       "      <td>2019-04-12 14:38:00</td>\n",
       "      <td>669 Spruce St, Los Angeles, CA 90001</td>\n",
       "      <td>April</td>\n",
       "    </tr>\n",
       "    <tr>\n",
       "      <th>5</th>\n",
       "      <td>176561</td>\n",
       "      <td>Wired Headphones</td>\n",
       "      <td>1</td>\n",
       "      <td>11.99</td>\n",
       "      <td>2019-04-30 09:27:00</td>\n",
       "      <td>333 8th St, Los Angeles, CA 90001</td>\n",
       "      <td>April</td>\n",
       "    </tr>\n",
       "  </tbody>\n",
       "</table>\n",
       "</div>"
      ],
      "text/plain": [
       "  Order ID                     Product Quantity Ordered Price Each  \\\n",
       "0   176558        USB-C Charging Cable                2      11.95   \n",
       "2   176559  Bose SoundSport Headphones                1      99.99   \n",
       "3   176560                Google Phone                1        600   \n",
       "4   176560            Wired Headphones                1      11.99   \n",
       "5   176561            Wired Headphones                1      11.99   \n",
       "\n",
       "           Order Date                      Purchase Address  Month  \n",
       "0 2019-04-19 08:46:00          917 1st St, Dallas, TX 75001  April  \n",
       "2 2019-04-07 22:30:00     682 Chestnut St, Boston, MA 02215  April  \n",
       "3 2019-04-12 14:38:00  669 Spruce St, Los Angeles, CA 90001  April  \n",
       "4 2019-04-12 14:38:00  669 Spruce St, Los Angeles, CA 90001  April  \n",
       "5 2019-04-30 09:27:00     333 8th St, Los Angeles, CA 90001  April  "
      ]
     },
     "execution_count": 28,
     "metadata": {},
     "output_type": "execute_result"
    }
   ],
   "source": [
    "df.head()"
   ]
  },
  {
   "cell_type": "markdown",
   "id": "f4ad674e",
   "metadata": {},
   "source": [
    "#### Changing Data Type Of Other Columns for Numerical Computation"
   ]
  },
  {
   "cell_type": "code",
   "execution_count": 29,
   "id": "54754836",
   "metadata": {},
   "outputs": [
    {
     "data": {
      "text/plain": [
       "(185686, 7)"
      ]
     },
     "execution_count": 29,
     "metadata": {},
     "output_type": "execute_result"
    }
   ],
   "source": [
    "df.shape"
   ]
  },
  {
   "cell_type": "code",
   "execution_count": 30,
   "id": "dd6e3ed5",
   "metadata": {},
   "outputs": [
    {
     "data": {
      "text/plain": [
       "185686"
      ]
     },
     "execution_count": 30,
     "metadata": {},
     "output_type": "execute_result"
    }
   ],
   "source": [
    "df[\"Order ID\"].str.isdigit().sum() # we can see there is only Numbers in Order ID Colum so we can change its Data Type"
   ]
  },
  {
   "cell_type": "code",
   "execution_count": 31,
   "id": "dbda826a",
   "metadata": {},
   "outputs": [],
   "source": [
    "df[\"Order ID\"] = df[\"Order ID\"].astype(int) # changed DataType from Object to int"
   ]
  },
  {
   "cell_type": "code",
   "execution_count": 32,
   "id": "94ae1fcf",
   "metadata": {},
   "outputs": [],
   "source": [
    "df[\"Quantity Ordered\"] = df[\"Quantity Ordered\"].astype(int)\n",
    "df[\"Price Each\"] = df[\"Price Each\"].astype(float)"
   ]
  },
  {
   "cell_type": "code",
   "execution_count": 33,
   "id": "5750eadc",
   "metadata": {},
   "outputs": [
    {
     "name": "stdout",
     "output_type": "stream",
     "text": [
      "<class 'pandas.core.frame.DataFrame'>\n",
      "Int64Index: 185686 entries, 0 to 186849\n",
      "Data columns (total 7 columns):\n",
      " #   Column            Non-Null Count   Dtype         \n",
      "---  ------            --------------   -----         \n",
      " 0   Order ID          185686 non-null  int32         \n",
      " 1   Product           185686 non-null  object        \n",
      " 2   Quantity Ordered  185686 non-null  int32         \n",
      " 3   Price Each        185686 non-null  float64       \n",
      " 4   Order Date        185686 non-null  datetime64[ns]\n",
      " 5   Purchase Address  185686 non-null  object        \n",
      " 6   Month             185686 non-null  object        \n",
      "dtypes: datetime64[ns](1), float64(1), int32(2), object(3)\n",
      "memory usage: 13.9+ MB\n"
     ]
    }
   ],
   "source": [
    "df.info()"
   ]
  },
  {
   "cell_type": "markdown",
   "id": "f1cba75a",
   "metadata": {},
   "source": [
    "### Sorting As per Months"
   ]
  },
  {
   "cell_type": "code",
   "execution_count": 34,
   "id": "f656043c",
   "metadata": {},
   "outputs": [],
   "source": [
    "df[\"MonthInNumeric\"] = df['Order Date'].dt.strftime('%m')"
   ]
  },
  {
   "cell_type": "code",
   "execution_count": 35,
   "id": "e5ae2b2e",
   "metadata": {},
   "outputs": [],
   "source": [
    "df[\"MonthInNumeric\"] = df[\"MonthInNumeric\"].astype(int)"
   ]
  },
  {
   "cell_type": "code",
   "execution_count": 36,
   "id": "e35463e2",
   "metadata": {},
   "outputs": [],
   "source": [
    "df.sort_values(by = \"MonthInNumeric\", inplace = True)"
   ]
  },
  {
   "cell_type": "code",
   "execution_count": 37,
   "id": "55a6f0fd",
   "metadata": {},
   "outputs": [],
   "source": [
    "df.reset_index(inplace = True)"
   ]
  },
  {
   "cell_type": "code",
   "execution_count": 38,
   "id": "40a2f6aa",
   "metadata": {},
   "outputs": [],
   "source": [
    "df.drop([\"index\", \"MonthInNumeric\"], axis = \"columns\", inplace = True)"
   ]
  },
  {
   "cell_type": "code",
   "execution_count": 39,
   "id": "26f05357",
   "metadata": {},
   "outputs": [
    {
     "data": {
      "text/html": [
       "<div>\n",
       "<style scoped>\n",
       "    .dataframe tbody tr th:only-of-type {\n",
       "        vertical-align: middle;\n",
       "    }\n",
       "\n",
       "    .dataframe tbody tr th {\n",
       "        vertical-align: top;\n",
       "    }\n",
       "\n",
       "    .dataframe thead th {\n",
       "        text-align: right;\n",
       "    }\n",
       "</style>\n",
       "<table border=\"1\" class=\"dataframe\">\n",
       "  <thead>\n",
       "    <tr style=\"text-align: right;\">\n",
       "      <th></th>\n",
       "      <th>Order ID</th>\n",
       "      <th>Product</th>\n",
       "      <th>Quantity Ordered</th>\n",
       "      <th>Price Each</th>\n",
       "      <th>Order Date</th>\n",
       "      <th>Purchase Address</th>\n",
       "      <th>Month</th>\n",
       "    </tr>\n",
       "  </thead>\n",
       "  <tbody>\n",
       "    <tr>\n",
       "      <th>0</th>\n",
       "      <td>142996</td>\n",
       "      <td>AAA Batteries (4-pack)</td>\n",
       "      <td>1</td>\n",
       "      <td>2.99</td>\n",
       "      <td>2019-01-01 21:01:00</td>\n",
       "      <td>402 Chestnut St, Boston, MA 02215</td>\n",
       "      <td>January</td>\n",
       "    </tr>\n",
       "    <tr>\n",
       "      <th>1</th>\n",
       "      <td>144297</td>\n",
       "      <td>Flatscreen TV</td>\n",
       "      <td>1</td>\n",
       "      <td>300.00</td>\n",
       "      <td>2019-01-21 14:37:00</td>\n",
       "      <td>437 Madison St, Atlanta, GA 30301</td>\n",
       "      <td>January</td>\n",
       "    </tr>\n",
       "    <tr>\n",
       "      <th>2</th>\n",
       "      <td>144296</td>\n",
       "      <td>Lightning Charging Cable</td>\n",
       "      <td>1</td>\n",
       "      <td>14.95</td>\n",
       "      <td>2019-01-16 12:03:00</td>\n",
       "      <td>946 Maple St, New York City, NY 10001</td>\n",
       "      <td>January</td>\n",
       "    </tr>\n",
       "    <tr>\n",
       "      <th>3</th>\n",
       "      <td>144295</td>\n",
       "      <td>USB-C Charging Cable</td>\n",
       "      <td>1</td>\n",
       "      <td>11.95</td>\n",
       "      <td>2019-01-15 14:39:00</td>\n",
       "      <td>340 Madison St, San Francisco, CA 94016</td>\n",
       "      <td>January</td>\n",
       "    </tr>\n",
       "    <tr>\n",
       "      <th>4</th>\n",
       "      <td>144294</td>\n",
       "      <td>Google Phone</td>\n",
       "      <td>1</td>\n",
       "      <td>600.00</td>\n",
       "      <td>2019-01-13 09:56:00</td>\n",
       "      <td>306 14th St, Los Angeles, CA 90001</td>\n",
       "      <td>January</td>\n",
       "    </tr>\n",
       "  </tbody>\n",
       "</table>\n",
       "</div>"
      ],
      "text/plain": [
       "   Order ID                   Product  Quantity Ordered  Price Each  \\\n",
       "0    142996    AAA Batteries (4-pack)                 1        2.99   \n",
       "1    144297             Flatscreen TV                 1      300.00   \n",
       "2    144296  Lightning Charging Cable                 1       14.95   \n",
       "3    144295      USB-C Charging Cable                 1       11.95   \n",
       "4    144294              Google Phone                 1      600.00   \n",
       "\n",
       "           Order Date                         Purchase Address    Month  \n",
       "0 2019-01-01 21:01:00        402 Chestnut St, Boston, MA 02215  January  \n",
       "1 2019-01-21 14:37:00        437 Madison St, Atlanta, GA 30301  January  \n",
       "2 2019-01-16 12:03:00    946 Maple St, New York City, NY 10001  January  \n",
       "3 2019-01-15 14:39:00  340 Madison St, San Francisco, CA 94016  January  \n",
       "4 2019-01-13 09:56:00       306 14th St, Los Angeles, CA 90001  January  "
      ]
     },
     "execution_count": 39,
     "metadata": {},
     "output_type": "execute_result"
    }
   ],
   "source": [
    "df.head()"
   ]
  },
  {
   "cell_type": "markdown",
   "id": "66d27c51",
   "metadata": {},
   "source": [
    "## Analysis"
   ]
  },
  {
   "cell_type": "markdown",
   "id": "f6901cab",
   "metadata": {},
   "source": [
    "#### Finding which was the best Month for sales and How much was Earned that Months"
   ]
  },
  {
   "cell_type": "code",
   "execution_count": 40,
   "id": "c3fdbea2",
   "metadata": {},
   "outputs": [],
   "source": [
    "# Adding Sales Column\n",
    "df[\"Sales\"] = df[\"Quantity Ordered\"] * df[\"Price Each\"]"
   ]
  },
  {
   "cell_type": "code",
   "execution_count": 41,
   "id": "443cd475",
   "metadata": {},
   "outputs": [
    {
     "data": {
      "text/plain": [
       "Month\n",
       "December     4608295.70\n",
       "October      3734777.86\n",
       "April        3389217.98\n",
       "November     3197875.05\n",
       "May          3150616.23\n",
       "March        2804973.35\n",
       "July         2646461.32\n",
       "June         2576280.15\n",
       "August       2241083.37\n",
       "February     2200078.08\n",
       "September    2094465.69\n",
       "January      1821413.16\n",
       "Name: Sales, dtype: float64"
      ]
     },
     "execution_count": 41,
     "metadata": {},
     "output_type": "execute_result"
    }
   ],
   "source": [
    "df.groupby([\"Month\"])[\"Sales\"].sum().sort_values(ascending = False)"
   ]
  },
  {
   "cell_type": "markdown",
   "id": "b260830f",
   "metadata": {},
   "source": [
    "### 'December' was the Best Month for Sales with sales of '4613443.34' and 'January' was worst month with sales of '1822256.73'"
   ]
  },
  {
   "cell_type": "code",
   "execution_count": 42,
   "id": "4a5da1e4",
   "metadata": {},
   "outputs": [],
   "source": [
    "#result = df.groupby([\"Month\", \"Product\"])[\"Sales\"].sum()\n",
    "#result.loc[\"January\"].sort_values(ascending = False)"
   ]
  },
  {
   "cell_type": "code",
   "execution_count": 43,
   "id": "cbce3f90",
   "metadata": {},
   "outputs": [
    {
     "name": "stderr",
     "output_type": "stream",
     "text": [
      "C:\\Users\\Shivam\\AppData\\Local\\Temp\\ipykernel_4964\\2545648938.py:1: FutureWarning: The default value of numeric_only in DataFrameGroupBy.sum is deprecated. In a future version, numeric_only will default to False. Either specify numeric_only or select only columns which should be valid for the function.\n",
      "  result = df.groupby([\"Month\"]).sum()\n"
     ]
    }
   ],
   "source": [
    "result = df.groupby([\"Month\"]).sum()\n",
    "#result\n",
    "months_order = [\"January\", \"February\", \"March\", \"April\", \"May\", \"June\", \"July\", \"August\", \"September\", \"October\", \"November\", \"December\"]\n",
    "result = result.reindex(months_order)"
   ]
  },
  {
   "cell_type": "code",
   "execution_count": 44,
   "id": "cd289dea",
   "metadata": {
    "scrolled": false
   },
   "outputs": [
    {
     "data": {
      "image/png": "[encoded data removed]",
      "text/plain": [
       "<Figure size 640x480 with 1 Axes>"
      ]
     },
     "metadata": {},
     "output_type": "display_data"
    }
   ],
   "source": [
    "import matplotlib.pyplot as plt\n",
    "\n",
    "# Plotting\n",
    "#plt.grid()\n",
    "plt.bar(result.index, result[\"Sales\"])\n",
    "plt.xlabel(\"Month\")\n",
    "plt.ylabel(\"Total Sales in USD\")\n",
    "plt.title(\"Total Sales per Month\")\n",
    "plt.xticks(rotation=45)  # Rotating x-axis labels for better readability\n",
    "\n",
    "plt.show()\n"
   ]
  },
  {
   "cell_type": "markdown",
   "id": "627166f9",
   "metadata": {},
   "source": [
    "#### With Graph we can also see that December has highest sales and January has Lowest Sales "
   ]
  },
  {
   "cell_type": "markdown",
   "id": "0f75e532",
   "metadata": {},
   "source": [
    "#### Finding which City was the highest Number of sales"
   ]
  },
  {
   "cell_type": "markdown",
   "id": "9ea75d43",
   "metadata": {},
   "source": [
    "##### Adding City Column"
   ]
  },
  {
   "cell_type": "code",
   "execution_count": 45,
   "id": "da75e80d",
   "metadata": {},
   "outputs": [
    {
     "data": {
      "text/plain": [
       "0            Boston, MA 02215\n",
       "1           Atlanta, GA 30301\n",
       "2     New York City, NY 10001\n",
       "3     San Francisco, CA 94016\n",
       "4       Los Angeles, CA 90001\n",
       "5            Austin, TX 73301\n",
       "6            Dallas, TX 75001\n",
       "7           Seattle, WA 98101\n",
       "8          Portland, OR 97035\n",
       "9          Portland, ME 04101\n",
       "dtype: object"
      ]
     },
     "execution_count": 45,
     "metadata": {},
     "output_type": "execute_result"
    }
   ],
   "source": [
    "pd.Series(df[\"Purchase Address\"].str.split(\",\").str[1:3].apply(lambda x: \",\".join(x)).unique())"
   ]
  },
  {
   "cell_type": "code",
   "execution_count": 46,
   "id": "2f3a8224",
   "metadata": {},
   "outputs": [
    {
     "data": {
      "text/plain": [
       "\" In this DataSet we have Portland with two different state i.e Portland(OR)' and Portland (ME) thats why we are considering \\ncity code as well and not going with the city name only\""
      ]
     },
     "execution_count": 46,
     "metadata": {},
     "output_type": "execute_result"
    }
   ],
   "source": [
    "''' In this DataSet we have Portland with two different state i.e Portland(OR)' and Portland (ME) thats why we are considering \n",
    "city code as well and not going with the city name only'''"
   ]
  },
  {
   "cell_type": "code",
   "execution_count": 47,
   "id": "3309abd5",
   "metadata": {},
   "outputs": [],
   "source": [
    "#df[\"City\"] = df[\"Purchase Address\"].apply(lambda x : x.split(\",\")[1])\n",
    "\n",
    "df[\"City\"] = df[\"Purchase Address\"].str.split(\",\").str[1] + \" \"+ \"(\" + df[\"Purchase Address\"].str.split(\",\").str[2].str.split(\" \").str[1]+ \")\""
   ]
  },
  {
   "cell_type": "code",
   "execution_count": 48,
   "id": "9213dccc",
   "metadata": {},
   "outputs": [
    {
     "data": {
      "text/html": [
       "<div>\n",
       "<style scoped>\n",
       "    .dataframe tbody tr th:only-of-type {\n",
       "        vertical-align: middle;\n",
       "    }\n",
       "\n",
       "    .dataframe tbody tr th {\n",
       "        vertical-align: top;\n",
       "    }\n",
       "\n",
       "    .dataframe thead th {\n",
       "        text-align: right;\n",
       "    }\n",
       "</style>\n",
       "<table border=\"1\" class=\"dataframe\">\n",
       "  <thead>\n",
       "    <tr style=\"text-align: right;\">\n",
       "      <th></th>\n",
       "      <th>Order ID</th>\n",
       "      <th>Product</th>\n",
       "      <th>Quantity Ordered</th>\n",
       "      <th>Price Each</th>\n",
       "      <th>Order Date</th>\n",
       "      <th>Purchase Address</th>\n",
       "      <th>Month</th>\n",
       "      <th>Sales</th>\n",
       "      <th>City</th>\n",
       "    </tr>\n",
       "  </thead>\n",
       "  <tbody>\n",
       "    <tr>\n",
       "      <th>0</th>\n",
       "      <td>142996</td>\n",
       "      <td>AAA Batteries (4-pack)</td>\n",
       "      <td>1</td>\n",
       "      <td>2.99</td>\n",
       "      <td>2019-01-01 21:01:00</td>\n",
       "      <td>402 Chestnut St, Boston, MA 02215</td>\n",
       "      <td>January</td>\n",
       "      <td>2.99</td>\n",
       "      <td>Boston (MA)</td>\n",
       "    </tr>\n",
       "    <tr>\n",
       "      <th>1</th>\n",
       "      <td>144297</td>\n",
       "      <td>Flatscreen TV</td>\n",
       "      <td>1</td>\n",
       "      <td>300.00</td>\n",
       "      <td>2019-01-21 14:37:00</td>\n",
       "      <td>437 Madison St, Atlanta, GA 30301</td>\n",
       "      <td>January</td>\n",
       "      <td>300.00</td>\n",
       "      <td>Atlanta (GA)</td>\n",
       "    </tr>\n",
       "    <tr>\n",
       "      <th>2</th>\n",
       "      <td>144296</td>\n",
       "      <td>Lightning Charging Cable</td>\n",
       "      <td>1</td>\n",
       "      <td>14.95</td>\n",
       "      <td>2019-01-16 12:03:00</td>\n",
       "      <td>946 Maple St, New York City, NY 10001</td>\n",
       "      <td>January</td>\n",
       "      <td>14.95</td>\n",
       "      <td>New York City (NY)</td>\n",
       "    </tr>\n",
       "    <tr>\n",
       "      <th>3</th>\n",
       "      <td>144295</td>\n",
       "      <td>USB-C Charging Cable</td>\n",
       "      <td>1</td>\n",
       "      <td>11.95</td>\n",
       "      <td>2019-01-15 14:39:00</td>\n",
       "      <td>340 Madison St, San Francisco, CA 94016</td>\n",
       "      <td>January</td>\n",
       "      <td>11.95</td>\n",
       "      <td>San Francisco (CA)</td>\n",
       "    </tr>\n",
       "    <tr>\n",
       "      <th>4</th>\n",
       "      <td>144294</td>\n",
       "      <td>Google Phone</td>\n",
       "      <td>1</td>\n",
       "      <td>600.00</td>\n",
       "      <td>2019-01-13 09:56:00</td>\n",
       "      <td>306 14th St, Los Angeles, CA 90001</td>\n",
       "      <td>January</td>\n",
       "      <td>600.00</td>\n",
       "      <td>Los Angeles (CA)</td>\n",
       "    </tr>\n",
       "  </tbody>\n",
       "</table>\n",
       "</div>"
      ],
      "text/plain": [
       "   Order ID                   Product  Quantity Ordered  Price Each  \\\n",
       "0    142996    AAA Batteries (4-pack)                 1        2.99   \n",
       "1    144297             Flatscreen TV                 1      300.00   \n",
       "2    144296  Lightning Charging Cable                 1       14.95   \n",
       "3    144295      USB-C Charging Cable                 1       11.95   \n",
       "4    144294              Google Phone                 1      600.00   \n",
       "\n",
       "           Order Date                         Purchase Address    Month  \\\n",
       "0 2019-01-01 21:01:00        402 Chestnut St, Boston, MA 02215  January   \n",
       "1 2019-01-21 14:37:00        437 Madison St, Atlanta, GA 30301  January   \n",
       "2 2019-01-16 12:03:00    946 Maple St, New York City, NY 10001  January   \n",
       "3 2019-01-15 14:39:00  340 Madison St, San Francisco, CA 94016  January   \n",
       "4 2019-01-13 09:56:00       306 14th St, Los Angeles, CA 90001  January   \n",
       "\n",
       "    Sales                 City  \n",
       "0    2.99          Boston (MA)  \n",
       "1  300.00         Atlanta (GA)  \n",
       "2   14.95   New York City (NY)  \n",
       "3   11.95   San Francisco (CA)  \n",
       "4  600.00     Los Angeles (CA)  "
      ]
     },
     "execution_count": 48,
     "metadata": {},
     "output_type": "execute_result"
    }
   ],
   "source": [
    "df.head()"
   ]
  },
  {
   "cell_type": "code",
   "execution_count": 49,
   "id": "0bddade4",
   "metadata": {},
   "outputs": [
    {
     "data": {
      "text/plain": [
       "City\n",
       " San Francisco (CA)    8254743.55\n",
       " Los Angeles (CA)      5448304.28\n",
       " New York City (NY)    4661867.14\n",
       " Boston (MA)           3658627.65\n",
       " Atlanta (GA)          2794199.07\n",
       " Dallas (TX)           2765373.96\n",
       " Seattle (WA)          2745046.02\n",
       " Portland (OR)         1870010.56\n",
       " Austin (TX)           1818044.33\n",
       " Portland (ME)          449321.38\n",
       "Name: Sales, dtype: float64"
      ]
     },
     "execution_count": 49,
     "metadata": {},
     "output_type": "execute_result"
    }
   ],
   "source": [
    "df.groupby(\"City\")[\"Sales\"].sum().sort_values(ascending = False)"
   ]
  },
  {
   "cell_type": "markdown",
   "id": "31158964",
   "metadata": {},
   "source": [
    "### 'San Francisco' was the Best City for Sales with sales of '8262203.91' and 'Portland (ME)' was worst City with sales of '449758.27'"
   ]
  },
  {
   "cell_type": "code",
   "execution_count": 50,
   "id": "f58344c5",
   "metadata": {},
   "outputs": [
    {
     "name": "stderr",
     "output_type": "stream",
     "text": [
      "C:\\Users\\Shivam\\AppData\\Local\\Temp\\ipykernel_4964\\989052106.py:1: FutureWarning: The default value of numeric_only in DataFrameGroupBy.sum is deprecated. In a future version, numeric_only will default to False. Either specify numeric_only or select only columns which should be valid for the function.\n",
      "  city_group = df.groupby(\"City\").sum()\n"
     ]
    }
   ],
   "source": [
    "city_group = df.groupby(\"City\").sum()"
   ]
  },
  {
   "cell_type": "code",
   "execution_count": 51,
   "id": "9fde022b",
   "metadata": {},
   "outputs": [],
   "source": [
    "city_group.sort_index(inplace = True)"
   ]
  },
  {
   "cell_type": "code",
   "execution_count": 52,
   "id": "a29b699a",
   "metadata": {},
   "outputs": [
    {
     "data": {
      "image/png": "[encoded data removed]",
      "text/plain": [
       "<Figure size 640x480 with 1 Axes>"
      ]
     },
     "metadata": {},
     "output_type": "display_data"
    }
   ],
   "source": [
    "plt.bar(city_group.index, city_group[\"Sales\"])\n",
    "\n",
    "plt.xlabel(\"City\")\n",
    "plt.ylabel(\"Total Sales in USD\")\n",
    "plt.title(\"Total Sales by City\")\n",
    "plt.xticks(rotation=90)  # Rotating x-axis labels for better readability\n",
    "\n",
    "plt.show()"
   ]
  },
  {
   "cell_type": "markdown",
   "id": "8665831f",
   "metadata": {},
   "source": [
    "#### With Graph we can also see that San Francisco(CA) has highest sales and Portland(ME) has Lowest Sales "
   ]
  },
  {
   "cell_type": "markdown",
   "id": "2f847ebe",
   "metadata": {},
   "source": [
    "#### Finding best time to display advertisements to maximize the likelihood of purchases"
   ]
  },
  {
   "cell_type": "code",
   "execution_count": 53,
   "id": "3ba3ed49",
   "metadata": {},
   "outputs": [],
   "source": [
    "# Finding Which time we ad more sales\n",
    "# Making hour and Minute Column\n",
    "\n",
    "df[\"Hour\"] = df[\"Order Date\"].dt.hour"
   ]
  },
  {
   "cell_type": "code",
   "execution_count": 54,
   "id": "813293e5",
   "metadata": {},
   "outputs": [
    {
     "data": {
      "text/html": [
       "<div>\n",
       "<style scoped>\n",
       "    .dataframe tbody tr th:only-of-type {\n",
       "        vertical-align: middle;\n",
       "    }\n",
       "\n",
       "    .dataframe tbody tr th {\n",
       "        vertical-align: top;\n",
       "    }\n",
       "\n",
       "    .dataframe thead th {\n",
       "        text-align: right;\n",
       "    }\n",
       "</style>\n",
       "<table border=\"1\" class=\"dataframe\">\n",
       "  <thead>\n",
       "    <tr style=\"text-align: right;\">\n",
       "      <th></th>\n",
       "      <th>Order ID</th>\n",
       "      <th>Product</th>\n",
       "      <th>Quantity Ordered</th>\n",
       "      <th>Price Each</th>\n",
       "      <th>Order Date</th>\n",
       "      <th>Purchase Address</th>\n",
       "      <th>Month</th>\n",
       "      <th>Sales</th>\n",
       "      <th>City</th>\n",
       "      <th>Hour</th>\n",
       "    </tr>\n",
       "  </thead>\n",
       "  <tbody>\n",
       "    <tr>\n",
       "      <th>0</th>\n",
       "      <td>142996</td>\n",
       "      <td>AAA Batteries (4-pack)</td>\n",
       "      <td>1</td>\n",
       "      <td>2.99</td>\n",
       "      <td>2019-01-01 21:01:00</td>\n",
       "      <td>402 Chestnut St, Boston, MA 02215</td>\n",
       "      <td>January</td>\n",
       "      <td>2.99</td>\n",
       "      <td>Boston (MA)</td>\n",
       "      <td>21</td>\n",
       "    </tr>\n",
       "    <tr>\n",
       "      <th>1</th>\n",
       "      <td>144297</td>\n",
       "      <td>Flatscreen TV</td>\n",
       "      <td>1</td>\n",
       "      <td>300.00</td>\n",
       "      <td>2019-01-21 14:37:00</td>\n",
       "      <td>437 Madison St, Atlanta, GA 30301</td>\n",
       "      <td>January</td>\n",
       "      <td>300.00</td>\n",
       "      <td>Atlanta (GA)</td>\n",
       "      <td>14</td>\n",
       "    </tr>\n",
       "    <tr>\n",
       "      <th>2</th>\n",
       "      <td>144296</td>\n",
       "      <td>Lightning Charging Cable</td>\n",
       "      <td>1</td>\n",
       "      <td>14.95</td>\n",
       "      <td>2019-01-16 12:03:00</td>\n",
       "      <td>946 Maple St, New York City, NY 10001</td>\n",
       "      <td>January</td>\n",
       "      <td>14.95</td>\n",
       "      <td>New York City (NY)</td>\n",
       "      <td>12</td>\n",
       "    </tr>\n",
       "    <tr>\n",
       "      <th>3</th>\n",
       "      <td>144295</td>\n",
       "      <td>USB-C Charging Cable</td>\n",
       "      <td>1</td>\n",
       "      <td>11.95</td>\n",
       "      <td>2019-01-15 14:39:00</td>\n",
       "      <td>340 Madison St, San Francisco, CA 94016</td>\n",
       "      <td>January</td>\n",
       "      <td>11.95</td>\n",
       "      <td>San Francisco (CA)</td>\n",
       "      <td>14</td>\n",
       "    </tr>\n",
       "    <tr>\n",
       "      <th>4</th>\n",
       "      <td>144294</td>\n",
       "      <td>Google Phone</td>\n",
       "      <td>1</td>\n",
       "      <td>600.00</td>\n",
       "      <td>2019-01-13 09:56:00</td>\n",
       "      <td>306 14th St, Los Angeles, CA 90001</td>\n",
       "      <td>January</td>\n",
       "      <td>600.00</td>\n",
       "      <td>Los Angeles (CA)</td>\n",
       "      <td>9</td>\n",
       "    </tr>\n",
       "  </tbody>\n",
       "</table>\n",
       "</div>"
      ],
      "text/plain": [
       "   Order ID                   Product  Quantity Ordered  Price Each  \\\n",
       "0    142996    AAA Batteries (4-pack)                 1        2.99   \n",
       "1    144297             Flatscreen TV                 1      300.00   \n",
       "2    144296  Lightning Charging Cable                 1       14.95   \n",
       "3    144295      USB-C Charging Cable                 1       11.95   \n",
       "4    144294              Google Phone                 1      600.00   \n",
       "\n",
       "           Order Date                         Purchase Address    Month  \\\n",
       "0 2019-01-01 21:01:00        402 Chestnut St, Boston, MA 02215  January   \n",
       "1 2019-01-21 14:37:00        437 Madison St, Atlanta, GA 30301  January   \n",
       "2 2019-01-16 12:03:00    946 Maple St, New York City, NY 10001  January   \n",
       "3 2019-01-15 14:39:00  340 Madison St, San Francisco, CA 94016  January   \n",
       "4 2019-01-13 09:56:00       306 14th St, Los Angeles, CA 90001  January   \n",
       "\n",
       "    Sales                 City  Hour  \n",
       "0    2.99          Boston (MA)    21  \n",
       "1  300.00         Atlanta (GA)    14  \n",
       "2   14.95   New York City (NY)    12  \n",
       "3   11.95   San Francisco (CA)    14  \n",
       "4  600.00     Los Angeles (CA)     9  "
      ]
     },
     "execution_count": 54,
     "metadata": {},
     "output_type": "execute_result"
    }
   ],
   "source": [
    "df.head()"
   ]
  },
  {
   "cell_type": "code",
   "execution_count": 55,
   "id": "e1b0ecc3",
   "metadata": {},
   "outputs": [],
   "source": [
    "hour_group = df.groupby(\"Hour\").count()"
   ]
  },
  {
   "cell_type": "code",
   "execution_count": 56,
   "id": "9bb82cc0",
   "metadata": {},
   "outputs": [
    {
     "data": {
      "image/png": "[encoded data removed]",
      "text/plain": [
       "<Figure size 640x480 with 1 Axes>"
      ]
     },
     "metadata": {},
     "output_type": "display_data"
    }
   ],
   "source": [
    "plt.plot(hour_group.index, hour_group, color=\"magenta\")\n",
    "plt.xlabel(\"Hour\")\n",
    "plt.ylabel(\"Number of Orders\")\n",
    "plt.xticks(hour_group.index)\n",
    "plt.grid()\n",
    "\n",
    "plt.show()"
   ]
  },
  {
   "cell_type": "markdown",
   "id": "ff35c9c5",
   "metadata": {},
   "source": [
    "#### My recommendation is around 12 PM (12) or 7PM (19) "
   ]
  },
  {
   "cell_type": "markdown",
   "id": "2c4686bd",
   "metadata": {},
   "source": [
    "## What Products are most often sold together"
   ]
  },
  {
   "cell_type": "markdown",
   "id": "fda026b4",
   "metadata": {},
   "source": [
    "keep = \" \"\n",
    "\n",
    "first : Mark duplicates as True except for the first occurrence.  \n",
    "  \n",
    "last : Mark duplicates as True except for the last occurrence.  \n",
    "  \n",
    "False : Mark all duplicates as True.  "
   ]
  },
  {
   "cell_type": "code",
   "execution_count": 57,
   "id": "80692c96",
   "metadata": {},
   "outputs": [],
   "source": [
    "duplicate_df = df[df[\"Order ID\"].duplicated(keep = False)]"
   ]
  },
  {
   "cell_type": "code",
   "execution_count": 58,
   "id": "18635c7a",
   "metadata": {},
   "outputs": [
    {
     "data": {
      "text/html": [
       "<div>\n",
       "<style scoped>\n",
       "    .dataframe tbody tr th:only-of-type {\n",
       "        vertical-align: middle;\n",
       "    }\n",
       "\n",
       "    .dataframe tbody tr th {\n",
       "        vertical-align: top;\n",
       "    }\n",
       "\n",
       "    .dataframe thead th {\n",
       "        text-align: right;\n",
       "    }\n",
       "</style>\n",
       "<table border=\"1\" class=\"dataframe\">\n",
       "  <thead>\n",
       "    <tr style=\"text-align: right;\">\n",
       "      <th></th>\n",
       "      <th>Order ID</th>\n",
       "      <th>Product</th>\n",
       "      <th>Quantity Ordered</th>\n",
       "      <th>Price Each</th>\n",
       "      <th>Order Date</th>\n",
       "      <th>Purchase Address</th>\n",
       "      <th>Month</th>\n",
       "      <th>Sales</th>\n",
       "      <th>City</th>\n",
       "      <th>Hour</th>\n",
       "    </tr>\n",
       "  </thead>\n",
       "  <tbody>\n",
       "    <tr>\n",
       "      <th>65</th>\n",
       "      <td>144271</td>\n",
       "      <td>Lightning Charging Cable</td>\n",
       "      <td>1</td>\n",
       "      <td>14.95</td>\n",
       "      <td>2019-01-28 23:02:00</td>\n",
       "      <td>2 Cherry St, San Francisco, CA 94016</td>\n",
       "      <td>January</td>\n",
       "      <td>14.95</td>\n",
       "      <td>San Francisco (CA)</td>\n",
       "      <td>23</td>\n",
       "    </tr>\n",
       "    <tr>\n",
       "      <th>66</th>\n",
       "      <td>144271</td>\n",
       "      <td>iPhone</td>\n",
       "      <td>1</td>\n",
       "      <td>700.00</td>\n",
       "      <td>2019-01-28 23:02:00</td>\n",
       "      <td>2 Cherry St, San Francisco, CA 94016</td>\n",
       "      <td>January</td>\n",
       "      <td>700.00</td>\n",
       "      <td>San Francisco (CA)</td>\n",
       "      <td>23</td>\n",
       "    </tr>\n",
       "    <tr>\n",
       "      <th>132</th>\n",
       "      <td>144339</td>\n",
       "      <td>iPhone</td>\n",
       "      <td>1</td>\n",
       "      <td>700.00</td>\n",
       "      <td>2019-01-21 14:33:00</td>\n",
       "      <td>953 Hickory St, Los Angeles, CA 90001</td>\n",
       "      <td>January</td>\n",
       "      <td>700.00</td>\n",
       "      <td>Los Angeles (CA)</td>\n",
       "      <td>14</td>\n",
       "    </tr>\n",
       "    <tr>\n",
       "      <th>141</th>\n",
       "      <td>144344</td>\n",
       "      <td>USB-C Charging Cable</td>\n",
       "      <td>1</td>\n",
       "      <td>11.95</td>\n",
       "      <td>2019-01-25 22:26:00</td>\n",
       "      <td>188 14th St, Boston, MA 02215</td>\n",
       "      <td>January</td>\n",
       "      <td>11.95</td>\n",
       "      <td>Boston (MA)</td>\n",
       "      <td>22</td>\n",
       "    </tr>\n",
       "    <tr>\n",
       "      <th>142</th>\n",
       "      <td>144344</td>\n",
       "      <td>Google Phone</td>\n",
       "      <td>1</td>\n",
       "      <td>600.00</td>\n",
       "      <td>2019-01-25 22:26:00</td>\n",
       "      <td>188 14th St, Boston, MA 02215</td>\n",
       "      <td>January</td>\n",
       "      <td>600.00</td>\n",
       "      <td>Boston (MA)</td>\n",
       "      <td>22</td>\n",
       "    </tr>\n",
       "  </tbody>\n",
       "</table>\n",
       "</div>"
      ],
      "text/plain": [
       "     Order ID                   Product  Quantity Ordered  Price Each  \\\n",
       "65     144271  Lightning Charging Cable                 1       14.95   \n",
       "66     144271                    iPhone                 1      700.00   \n",
       "132    144339                    iPhone                 1      700.00   \n",
       "141    144344      USB-C Charging Cable                 1       11.95   \n",
       "142    144344              Google Phone                 1      600.00   \n",
       "\n",
       "             Order Date                       Purchase Address    Month  \\\n",
       "65  2019-01-28 23:02:00   2 Cherry St, San Francisco, CA 94016  January   \n",
       "66  2019-01-28 23:02:00   2 Cherry St, San Francisco, CA 94016  January   \n",
       "132 2019-01-21 14:33:00  953 Hickory St, Los Angeles, CA 90001  January   \n",
       "141 2019-01-25 22:26:00          188 14th St, Boston, MA 02215  January   \n",
       "142 2019-01-25 22:26:00          188 14th St, Boston, MA 02215  January   \n",
       "\n",
       "      Sales                 City  Hour  \n",
       "65    14.95   San Francisco (CA)    23  \n",
       "66   700.00   San Francisco (CA)    23  \n",
       "132  700.00     Los Angeles (CA)    14  \n",
       "141   11.95          Boston (MA)    22  \n",
       "142  600.00          Boston (MA)    22  "
      ]
     },
     "execution_count": 58,
     "metadata": {},
     "output_type": "execute_result"
    }
   ],
   "source": [
    "duplicate_df.head()"
   ]
  },
  {
   "cell_type": "code",
   "execution_count": 59,
   "id": "98aba8cb",
   "metadata": {},
   "outputs": [
    {
     "name": "stderr",
     "output_type": "stream",
     "text": [
      "C:\\Users\\Shivam\\AppData\\Local\\Temp\\ipykernel_4964\\1679950058.py:1: SettingWithCopyWarning: \n",
      "A value is trying to be set on a copy of a slice from a DataFrame.\n",
      "Try using .loc[row_indexer,col_indexer] = value instead\n",
      "\n",
      "See the caveats in the documentation: https://pandas.pydata.org/pandas-docs/stable/user_guide/indexing.html#returning-a-view-versus-a-copy\n",
      "  duplicate_df[\"Grouped\"] = duplicate_df.groupby(\"Order ID\")[\"Product\"].transform(lambda x : \",\".join(x))\n"
     ]
    }
   ],
   "source": [
    "duplicate_df[\"Grouped\"] = duplicate_df.groupby(\"Order ID\")[\"Product\"].transform(lambda x : \",\".join(x))"
   ]
  },
  {
   "cell_type": "code",
   "execution_count": 60,
   "id": "7366a880",
   "metadata": {},
   "outputs": [
    {
     "data": {
      "text/html": [
       "<div>\n",
       "<style scoped>\n",
       "    .dataframe tbody tr th:only-of-type {\n",
       "        vertical-align: middle;\n",
       "    }\n",
       "\n",
       "    .dataframe tbody tr th {\n",
       "        vertical-align: top;\n",
       "    }\n",
       "\n",
       "    .dataframe thead th {\n",
       "        text-align: right;\n",
       "    }\n",
       "</style>\n",
       "<table border=\"1\" class=\"dataframe\">\n",
       "  <thead>\n",
       "    <tr style=\"text-align: right;\">\n",
       "      <th></th>\n",
       "      <th>Order ID</th>\n",
       "      <th>Product</th>\n",
       "      <th>Quantity Ordered</th>\n",
       "      <th>Price Each</th>\n",
       "      <th>Order Date</th>\n",
       "      <th>Purchase Address</th>\n",
       "      <th>Month</th>\n",
       "      <th>Sales</th>\n",
       "      <th>City</th>\n",
       "      <th>Hour</th>\n",
       "      <th>Grouped</th>\n",
       "    </tr>\n",
       "  </thead>\n",
       "  <tbody>\n",
       "    <tr>\n",
       "      <th>65</th>\n",
       "      <td>144271</td>\n",
       "      <td>Lightning Charging Cable</td>\n",
       "      <td>1</td>\n",
       "      <td>14.95</td>\n",
       "      <td>2019-01-28 23:02:00</td>\n",
       "      <td>2 Cherry St, San Francisco, CA 94016</td>\n",
       "      <td>January</td>\n",
       "      <td>14.95</td>\n",
       "      <td>San Francisco (CA)</td>\n",
       "      <td>23</td>\n",
       "      <td>Lightning Charging Cable,iPhone</td>\n",
       "    </tr>\n",
       "    <tr>\n",
       "      <th>66</th>\n",
       "      <td>144271</td>\n",
       "      <td>iPhone</td>\n",
       "      <td>1</td>\n",
       "      <td>700.00</td>\n",
       "      <td>2019-01-28 23:02:00</td>\n",
       "      <td>2 Cherry St, San Francisco, CA 94016</td>\n",
       "      <td>January</td>\n",
       "      <td>700.00</td>\n",
       "      <td>San Francisco (CA)</td>\n",
       "      <td>23</td>\n",
       "      <td>Lightning Charging Cable,iPhone</td>\n",
       "    </tr>\n",
       "    <tr>\n",
       "      <th>132</th>\n",
       "      <td>144339</td>\n",
       "      <td>iPhone</td>\n",
       "      <td>1</td>\n",
       "      <td>700.00</td>\n",
       "      <td>2019-01-21 14:33:00</td>\n",
       "      <td>953 Hickory St, Los Angeles, CA 90001</td>\n",
       "      <td>January</td>\n",
       "      <td>700.00</td>\n",
       "      <td>Los Angeles (CA)</td>\n",
       "      <td>14</td>\n",
       "      <td>iPhone,Wired Headphones</td>\n",
       "    </tr>\n",
       "    <tr>\n",
       "      <th>141</th>\n",
       "      <td>144344</td>\n",
       "      <td>USB-C Charging Cable</td>\n",
       "      <td>1</td>\n",
       "      <td>11.95</td>\n",
       "      <td>2019-01-25 22:26:00</td>\n",
       "      <td>188 14th St, Boston, MA 02215</td>\n",
       "      <td>January</td>\n",
       "      <td>11.95</td>\n",
       "      <td>Boston (MA)</td>\n",
       "      <td>22</td>\n",
       "      <td>USB-C Charging Cable,Google Phone</td>\n",
       "    </tr>\n",
       "    <tr>\n",
       "      <th>142</th>\n",
       "      <td>144344</td>\n",
       "      <td>Google Phone</td>\n",
       "      <td>1</td>\n",
       "      <td>600.00</td>\n",
       "      <td>2019-01-25 22:26:00</td>\n",
       "      <td>188 14th St, Boston, MA 02215</td>\n",
       "      <td>January</td>\n",
       "      <td>600.00</td>\n",
       "      <td>Boston (MA)</td>\n",
       "      <td>22</td>\n",
       "      <td>USB-C Charging Cable,Google Phone</td>\n",
       "    </tr>\n",
       "  </tbody>\n",
       "</table>\n",
       "</div>"
      ],
      "text/plain": [
       "     Order ID                   Product  Quantity Ordered  Price Each  \\\n",
       "65     144271  Lightning Charging Cable                 1       14.95   \n",
       "66     144271                    iPhone                 1      700.00   \n",
       "132    144339                    iPhone                 1      700.00   \n",
       "141    144344      USB-C Charging Cable                 1       11.95   \n",
       "142    144344              Google Phone                 1      600.00   \n",
       "\n",
       "             Order Date                       Purchase Address    Month  \\\n",
       "65  2019-01-28 23:02:00   2 Cherry St, San Francisco, CA 94016  January   \n",
       "66  2019-01-28 23:02:00   2 Cherry St, San Francisco, CA 94016  January   \n",
       "132 2019-01-21 14:33:00  953 Hickory St, Los Angeles, CA 90001  January   \n",
       "141 2019-01-25 22:26:00          188 14th St, Boston, MA 02215  January   \n",
       "142 2019-01-25 22:26:00          188 14th St, Boston, MA 02215  January   \n",
       "\n",
       "      Sales                 City  Hour                            Grouped  \n",
       "65    14.95   San Francisco (CA)    23    Lightning Charging Cable,iPhone  \n",
       "66   700.00   San Francisco (CA)    23    Lightning Charging Cable,iPhone  \n",
       "132  700.00     Los Angeles (CA)    14            iPhone,Wired Headphones  \n",
       "141   11.95          Boston (MA)    22  USB-C Charging Cable,Google Phone  \n",
       "142  600.00          Boston (MA)    22  USB-C Charging Cable,Google Phone  "
      ]
     },
     "execution_count": 60,
     "metadata": {},
     "output_type": "execute_result"
    }
   ],
   "source": [
    "duplicate_df.head()"
   ]
  },
  {
   "cell_type": "code",
   "execution_count": 61,
   "id": "392f0325",
   "metadata": {},
   "outputs": [],
   "source": [
    "duplicate_df = duplicate_df[[\"Order ID\", \"Grouped\"]].drop_duplicates()"
   ]
  },
  {
   "cell_type": "code",
   "execution_count": 62,
   "id": "834eee53",
   "metadata": {},
   "outputs": [
    {
     "data": {
      "text/html": [
       "<div>\n",
       "<style scoped>\n",
       "    .dataframe tbody tr th:only-of-type {\n",
       "        vertical-align: middle;\n",
       "    }\n",
       "\n",
       "    .dataframe tbody tr th {\n",
       "        vertical-align: top;\n",
       "    }\n",
       "\n",
       "    .dataframe thead th {\n",
       "        text-align: right;\n",
       "    }\n",
       "</style>\n",
       "<table border=\"1\" class=\"dataframe\">\n",
       "  <thead>\n",
       "    <tr style=\"text-align: right;\">\n",
       "      <th></th>\n",
       "      <th>Order ID</th>\n",
       "      <th>Grouped</th>\n",
       "    </tr>\n",
       "  </thead>\n",
       "  <tbody>\n",
       "    <tr>\n",
       "      <th>65</th>\n",
       "      <td>144271</td>\n",
       "      <td>Lightning Charging Cable,iPhone</td>\n",
       "    </tr>\n",
       "    <tr>\n",
       "      <th>132</th>\n",
       "      <td>144339</td>\n",
       "      <td>iPhone,Wired Headphones</td>\n",
       "    </tr>\n",
       "    <tr>\n",
       "      <th>141</th>\n",
       "      <td>144344</td>\n",
       "      <td>USB-C Charging Cable,Google Phone</td>\n",
       "    </tr>\n",
       "    <tr>\n",
       "      <th>303</th>\n",
       "      <td>144394</td>\n",
       "      <td>Google Phone,Wired Headphones</td>\n",
       "    </tr>\n",
       "    <tr>\n",
       "      <th>306</th>\n",
       "      <td>144584</td>\n",
       "      <td>USB-C Charging Cable,Google Phone</td>\n",
       "    </tr>\n",
       "  </tbody>\n",
       "</table>\n",
       "</div>"
      ],
      "text/plain": [
       "     Order ID                            Grouped\n",
       "65     144271    Lightning Charging Cable,iPhone\n",
       "132    144339            iPhone,Wired Headphones\n",
       "141    144344  USB-C Charging Cable,Google Phone\n",
       "303    144394      Google Phone,Wired Headphones\n",
       "306    144584  USB-C Charging Cable,Google Phone"
      ]
     },
     "execution_count": 62,
     "metadata": {},
     "output_type": "execute_result"
    }
   ],
   "source": [
    "duplicate_df.head()"
   ]
  },
  {
   "cell_type": "code",
   "execution_count": 63,
   "id": "5416220f",
   "metadata": {},
   "outputs": [],
   "source": [
    "from itertools import combinations\n",
    "from collections import Counter"
   ]
  },
  {
   "cell_type": "code",
   "execution_count": 64,
   "id": "16a922e4",
   "metadata": {},
   "outputs": [
    {
     "name": "stdout",
     "output_type": "stream",
     "text": [
      "('Lightning Charging Cable', 'iPhone') 523\n",
      "('USB-C Charging Cable', 'Google Phone') 519\n",
      "('iPhone', 'Lightning Charging Cable') 488\n",
      "('Google Phone', 'USB-C Charging Cable') 478\n",
      "('Wired Headphones', 'iPhone') 248\n",
      "('Wired Headphones', 'Google Phone') 231\n",
      "('iPhone', 'Wired Headphones') 214\n",
      "('USB-C Charging Cable', 'Vareebadd Phone') 195\n",
      "('Google Phone', 'Wired Headphones') 191\n",
      "('iPhone', 'Apple Airpods Headphones') 190\n"
     ]
    }
   ],
   "source": [
    "count = Counter()\n",
    "\n",
    "for row in duplicate_df[\"Grouped\"]:\n",
    "    row_list = row.split(',')\n",
    "    count.update(Counter(combinations(row_list,2)))\n",
    "    \n",
    "for key, value in count.most_common(10):\n",
    "    print(key, value)\n",
    "    "
   ]
  },
  {
   "cell_type": "markdown",
   "id": "a068de82",
   "metadata": {},
   "source": [
    "#### What product sold most"
   ]
  },
  {
   "cell_type": "code",
   "execution_count": 65,
   "id": "0e8fc0ae",
   "metadata": {},
   "outputs": [
    {
     "data": {
      "text/plain": [
       "Index(['Order ID', 'Product', 'Quantity Ordered', 'Price Each', 'Order Date',\n",
       "       'Purchase Address', 'Month', 'Sales', 'City', 'Hour'],\n",
       "      dtype='object')"
      ]
     },
     "execution_count": 65,
     "metadata": {},
     "output_type": "execute_result"
    }
   ],
   "source": [
    "df.columns"
   ]
  },
  {
   "cell_type": "code",
   "execution_count": 66,
   "id": "ab1717c1",
   "metadata": {},
   "outputs": [
    {
     "name": "stderr",
     "output_type": "stream",
     "text": [
      "C:\\Users\\Shivam\\AppData\\Local\\Temp\\ipykernel_4964\\2133790666.py:1: FutureWarning: The default value of numeric_only in DataFrameGroupBy.sum is deprecated. In a future version, numeric_only will default to False. Either specify numeric_only or select only columns which should be valid for the function.\n",
      "  product_group = df.groupby(\"Product\").sum()\n"
     ]
    },
    {
     "data": {
      "text/plain": [
       "Product\n",
       "AAA Batteries (4-pack)        30986\n",
       "AA Batteries (4-pack)         27615\n",
       "USB-C Charging Cable          23931\n",
       "Lightning Charging Cable      23169\n",
       "Wired Headphones              20524\n",
       "Apple Airpods Headphones      15637\n",
       "Bose SoundSport Headphones    13430\n",
       "27in FHD Monitor               7541\n",
       "iPhone                         6847\n",
       "27in 4K Gaming Monitor         6239\n",
       "34in Ultrawide Monitor         6192\n",
       "Google Phone                   5529\n",
       "Flatscreen TV                  4813\n",
       "Macbook Pro Laptop             4725\n",
       "ThinkPad Laptop                4128\n",
       "20in Monitor                   4126\n",
       "Vareebadd Phone                2068\n",
       "LG Washing Machine              666\n",
       "LG Dryer                        646\n",
       "Name: Quantity Ordered, dtype: int64"
      ]
     },
     "execution_count": 66,
     "metadata": {},
     "output_type": "execute_result"
    }
   ],
   "source": [
    "product_group = df.groupby(\"Product\").sum()\n",
    "product_group[\"Quantity Ordered\"].sort_values(ascending = False)"
   ]
  },
  {
   "cell_type": "markdown",
   "id": "8ed5e8ce",
   "metadata": {},
   "source": [
    "#### Most Product Sold is AAA Batteries(4-pack)"
   ]
  },
  {
   "cell_type": "code",
   "execution_count": 67,
   "id": "943acc9c",
   "metadata": {},
   "outputs": [
    {
     "data": {
      "image/png": "[encoded data removed]",
      "text/plain": [
       "<Figure size 640x480 with 1 Axes>"
      ]
     },
     "metadata": {},
     "output_type": "display_data"
    }
   ],
   "source": [
    "plt.bar(product_group.index, product_group[\"Quantity Ordered\"])\n",
    "plt.xlabel(\"Product\")\n",
    "plt.ylabel(\"Quantity Solded\")\n",
    "plt.xticks(rotation = 90, size = 8)\n",
    "plt.show()"
   ]
  },
  {
   "cell_type": "markdown",
   "id": "57dc7b23",
   "metadata": {},
   "source": [
    "#### With Graph also we can see that Most Product Sold is \"AAA Batteries(4-pack)\""
   ]
  },
  {
   "cell_type": "markdown",
   "id": "0353490d",
   "metadata": {},
   "source": [
    "### Trying to find why AAA Batteries(4-pack) has higher ordered Quantity"
   ]
  },
  {
   "cell_type": "code",
   "execution_count": 68,
   "id": "e857faa6",
   "metadata": {},
   "outputs": [
    {
     "name": "stderr",
     "output_type": "stream",
     "text": [
      "C:\\Users\\Shivam\\AppData\\Local\\Temp\\ipykernel_4964\\2198889548.py:1: FutureWarning: The default value of numeric_only in DataFrameGroupBy.mean is deprecated. In a future version, numeric_only will default to False. Either specify numeric_only or select only columns which should be valid for the function.\n",
      "  prices = df.groupby(\"Product\").mean()\n"
     ]
    },
    {
     "data": {
      "text/plain": [
       "Product\n",
       "Macbook Pro Laptop            1700.00\n",
       "ThinkPad Laptop                999.99\n",
       "iPhone                         700.00\n",
       "LG Dryer                       600.00\n",
       "LG Washing Machine             600.00\n",
       "Google Phone                   600.00\n",
       "Vareebadd Phone                400.00\n",
       "27in 4K Gaming Monitor         389.99\n",
       "34in Ultrawide Monitor         379.99\n",
       "Flatscreen TV                  300.00\n",
       "Apple Airpods Headphones       150.00\n",
       "27in FHD Monitor               149.99\n",
       "20in Monitor                   109.99\n",
       "Bose SoundSport Headphones      99.99\n",
       "Lightning Charging Cable        14.95\n",
       "Wired Headphones                11.99\n",
       "USB-C Charging Cable            11.95\n",
       "AA Batteries (4-pack)            3.84\n",
       "AAA Batteries (4-pack)           2.99\n",
       "Name: Price Each, dtype: float64"
      ]
     },
     "execution_count": 68,
     "metadata": {},
     "output_type": "execute_result"
    }
   ],
   "source": [
    "prices = df.groupby(\"Product\").mean()\n",
    "prices[\"Price Each\"].sort_values(ascending= False)"
   ]
  },
  {
   "cell_type": "code",
   "execution_count": 69,
   "id": "ae824c41",
   "metadata": {},
   "outputs": [
    {
     "data": {
      "image/png": "[encoded data removed]",
      "text/plain": [
       "<Figure size 640x480 with 2 Axes>"
      ]
     },
     "metadata": {},
     "output_type": "display_data"
    }
   ],
   "source": [
    "ax1 = plt.subplot()\n",
    "ax2 = ax1.twinx()\n",
    "plt.grid()\n",
    "ax1.bar(product_group.index, product_group[\"Quantity Ordered\"], color = 'g')\n",
    "ax2.plot(prices.index, prices[\"Price Each\"], color = 'b')\n",
    "\n",
    "ax1.set_xlabel(\"Product Name\")\n",
    "ax1.set_ylabel(\"Quantity Ordered\", color = 'g')\n",
    "\n",
    "ax2.set_ylabel(\"Price($)\", color = 'b')\n",
    "ax1.set_xticks(product_group.index)\n",
    "ax1.set_xticklabels(product_group.index, rotation=90, size=8)\n",
    "plt.show()"
   ]
  },
  {
   "cell_type": "markdown",
   "id": "127f3104",
   "metadata": {},
   "source": [
    "\n",
    "1. **Graph Description**:\n",
    "   - The image displays a bar graph overlaid with a line graph.\n",
    "   - The x-axis represents different products, including \"27in 4K Gaming Monitor,\" \"34in Ultrawide Monitor,\" \"AA Batteries (4-pack),\" \"AAA Batteries (4-pack),\" and more.\n",
    "   - The y-axis on the left side corresponds to the \"Quantity Ordered,\" ranging from 0 to 30,000.\n",
    "   - The y-axis on the right side corresponds to the \"Prices\" in dollars ($), ranging from 0 to 1,750.\n",
    "   - The green bars represent the quantity ordered for each product.\n",
    "   - The blue line represents the prices of these products.\n",
    "\n",
    "2. **Observations**:\n",
    "   - There isn't a clear linear correlation between the quantity ordered and the price.\n",
    "   - For instance:\n",
    "     - **AA Batteries (4-pack)** have a high quantity ordered but a relatively low price.\n",
    "     - **MacBook Pro Laptop** has a lower quantity ordered but a significantly higher price.\n",
    "\n",
    "3. **Correlation**:\n",
    "   - Based on the graph, we can infer that price alone does not directly determine the quantity ordered.\n",
    "   - Other factors, such as product demand, marketing strategies, and consumer preferences, likely influence the purchasing decisions."
   ]
  },
  {
   "cell_type": "code",
   "execution_count": null,
   "id": "11ac77f2",
   "metadata": {},
   "outputs": [],
   "source": []
  },
  {
   "cell_type": "code",
   "execution_count": null,
   "id": "27e9500b",
   "metadata": {},
   "outputs": [],
   "source": []
  }
 ],
 "metadata": {
  "kernelspec": {
   "display_name": "Python 3 (ipykernel)",
   "language": "python",
   "name": "python3"
  },
  "language_info": {
   "codemirror_mode": {
    "name": "ipython",
    "version": 3
   },
   "file_extension": ".py",
   "mimetype": "text/x-python",
   "name": "python",
   "nbconvert_exporter": "python",
   "pygments_lexer": "ipython3",
   "version": "3.11.4"
  }
 },
 "nbformat": 4,
 "nbformat_minor": 5
}
